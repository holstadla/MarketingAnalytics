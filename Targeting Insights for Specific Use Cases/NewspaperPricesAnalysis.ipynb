{
  "nbformat": 4,
  "nbformat_minor": 0,
  "metadata": {
    "colab": {
      "name": "Exercise7.ipynb",
      "provenance": []
    },
    "kernelspec": {
      "name": "python3",
      "display_name": "Python 3"
    }
  },
  "cells": [
    {
      "cell_type": "code",
      "metadata": {
        "colab": {
          "base_uri": "https://localhost:8080/"
        },
        "id": "qpDI-Op5tl7c",
        "outputId": "7e8550c6-2d0c-42bd-89a7-37135fe95596"
      },
      "source": [
        "import pandas as pd \n",
        "\n",
        "from google.colab import drive\n",
        "drive.mount('/gdrive')\n",
        "#Change current working directory to gdrive\n",
        "%cd /gdrive"
      ],
      "execution_count": 18,
      "outputs": [
        {
          "output_type": "stream",
          "text": [
            "Drive already mounted at /gdrive; to attempt to forcibly remount, call drive.mount(\"/gdrive\", force_remount=True).\n",
            "/gdrive\n"
          ],
          "name": "stdout"
        }
      ]
    },
    {
      "cell_type": "code",
      "metadata": {
        "colab": {
          "base_uri": "https://localhost:8080/",
          "height": 297
        },
        "id": "ckMCrBUtuZlf",
        "outputId": "422cb01c-1d40-45bd-874c-86b00ed8fc21"
      },
      "source": [
        "#Read files\n",
        "datafile = r'/gdrive/My Drive/Data Projects/Marketing Analytics/Lesson 2/newspaper_prices.xlsx'\n",
        "prices = pd.read_excel(datafile).set_index('Day') #creates a dataframe\n",
        "prices.head(8)"
      ],
      "execution_count": 65,
      "outputs": [
        {
          "output_type": "execute_result",
          "data": {
            "text/html": [
              "<div>\n",
              "<style scoped>\n",
              "    .dataframe tbody tr th:only-of-type {\n",
              "        vertical-align: middle;\n",
              "    }\n",
              "\n",
              "    .dataframe tbody tr th {\n",
              "        vertical-align: top;\n",
              "    }\n",
              "\n",
              "    .dataframe thead th {\n",
              "        text-align: right;\n",
              "    }\n",
              "</style>\n",
              "<table border=\"1\" class=\"dataframe\">\n",
              "  <thead>\n",
              "    <tr style=\"text-align: right;\">\n",
              "      <th></th>\n",
              "      <th>Paris Cost</th>\n",
              "      <th>Paris Views</th>\n",
              "      <th>Quebec Cost</th>\n",
              "      <th>Quebec Views</th>\n",
              "      <th>Rio Cost</th>\n",
              "      <th>Rio Views</th>\n",
              "    </tr>\n",
              "    <tr>\n",
              "      <th>Day</th>\n",
              "      <th></th>\n",
              "      <th></th>\n",
              "      <th></th>\n",
              "      <th></th>\n",
              "      <th></th>\n",
              "      <th></th>\n",
              "    </tr>\n",
              "  </thead>\n",
              "  <tbody>\n",
              "    <tr>\n",
              "      <th>Monday</th>\n",
              "      <td>50</td>\n",
              "      <td>20000</td>\n",
              "      <td>150</td>\n",
              "      <td>200000</td>\n",
              "      <td>50</td>\n",
              "      <td>10000</td>\n",
              "    </tr>\n",
              "    <tr>\n",
              "      <th>Tuesday</th>\n",
              "      <td>50</td>\n",
              "      <td>15000</td>\n",
              "      <td>150</td>\n",
              "      <td>210000</td>\n",
              "      <td>50</td>\n",
              "      <td>20000</td>\n",
              "    </tr>\n",
              "    <tr>\n",
              "      <th>Wednesday</th>\n",
              "      <td>50</td>\n",
              "      <td>23000</td>\n",
              "      <td>150</td>\n",
              "      <td>175000</td>\n",
              "      <td>50</td>\n",
              "      <td>20000</td>\n",
              "    </tr>\n",
              "    <tr>\n",
              "      <th>Thursday</th>\n",
              "      <td>50</td>\n",
              "      <td>20000</td>\n",
              "      <td>150</td>\n",
              "      <td>230000</td>\n",
              "      <td>50</td>\n",
              "      <td>14000</td>\n",
              "    </tr>\n",
              "    <tr>\n",
              "      <th>Friday</th>\n",
              "      <td>75</td>\n",
              "      <td>19000</td>\n",
              "      <td>200</td>\n",
              "      <td>150000</td>\n",
              "      <td>75</td>\n",
              "      <td>23000</td>\n",
              "    </tr>\n",
              "    <tr>\n",
              "      <th>Saturday</th>\n",
              "      <td>100</td>\n",
              "      <td>30000</td>\n",
              "      <td>300</td>\n",
              "      <td>500000</td>\n",
              "      <td>100</td>\n",
              "      <td>22000</td>\n",
              "    </tr>\n",
              "    <tr>\n",
              "      <th>Sunday</th>\n",
              "      <td>100</td>\n",
              "      <td>40000</td>\n",
              "      <td>300</td>\n",
              "      <td>450000</td>\n",
              "      <td>100</td>\n",
              "      <td>25000</td>\n",
              "    </tr>\n",
              "  </tbody>\n",
              "</table>\n",
              "</div>"
            ],
            "text/plain": [
              "           Paris Cost  Paris Views  ...  Rio Cost  Rio Views\n",
              "Day                                 ...                     \n",
              "Monday             50        20000  ...        50      10000\n",
              "Tuesday            50        15000  ...        50      20000\n",
              "Wednesday          50        23000  ...        50      20000\n",
              "Thursday           50        20000  ...        50      14000\n",
              "Friday             75        19000  ...        75      23000\n",
              "Saturday          100        30000  ...       100      22000\n",
              "Sunday            100        40000  ...       100      25000\n",
              "\n",
              "[7 rows x 6 columns]"
            ]
          },
          "metadata": {
            "tags": []
          },
          "execution_count": 65
        }
      ]
    },
    {
      "cell_type": "markdown",
      "metadata": {
        "id": "uQgZJF0bFUhb"
      },
      "source": [
        "**Total ad rates per city across all days**"
      ]
    },
    {
      "cell_type": "code",
      "metadata": {
        "colab": {
          "base_uri": "https://localhost:8080/"
        },
        "id": "zjNfJsFJurQm",
        "outputId": "0961f389-5f0a-4335-93b9-de1a27c7f5d7"
      },
      "source": [
        "prices.sum()"
      ],
      "execution_count": 66,
      "outputs": [
        {
          "output_type": "execute_result",
          "data": {
            "text/plain": [
              "Paris Cost          475\n",
              "Paris Views      167000\n",
              "Quebec Cost        1400\n",
              "Quebec Views    1915000\n",
              "Rio Cost            475\n",
              "Rio Views        134000\n",
              "dtype: int64"
            ]
          },
          "metadata": {
            "tags": []
          },
          "execution_count": 66
        }
      ]
    },
    {
      "cell_type": "markdown",
      "metadata": {
        "id": "OwiTDufk8lNz"
      },
      "source": [
        "Quebec has the highest overall number of views, but is also the most expensive.\n"
      ]
    },
    {
      "cell_type": "markdown",
      "metadata": {
        "id": "FHD3akC1GqGY"
      },
      "source": [
        "**Cost of displaying ads on every day of the week in all three cities**"
      ]
    },
    {
      "cell_type": "code",
      "metadata": {
        "colab": {
          "base_uri": "https://localhost:8080/"
        },
        "id": "QzG9SqEsGxZQ",
        "outputId": "75886845-1e76-4bdc-9a3f-7c8a2cc0488a"
      },
      "source": [
        "prices[['Paris Cost', 'Quebec Cost', 'Rio Cost']].sum(axis=1)"
      ],
      "execution_count": 74,
      "outputs": [
        {
          "output_type": "execute_result",
          "data": {
            "text/plain": [
              "Day\n",
              "Monday       250\n",
              "Tuesday      250\n",
              "Wednesday    250\n",
              "Thursday     250\n",
              "Friday       350\n",
              "Saturday     500\n",
              "Sunday       500\n",
              "dtype: int64"
            ]
          },
          "metadata": {
            "tags": []
          },
          "execution_count": 74
        }
      ]
    },
    {
      "cell_type": "markdown",
      "metadata": {
        "id": "tzFQb-AOG1MY"
      },
      "source": [
        "**Mean ad prices for each day across all cities**"
      ]
    },
    {
      "cell_type": "code",
      "metadata": {
        "id": "ipy4YfmZ6b5q",
        "colab": {
          "base_uri": "https://localhost:8080/"
        },
        "outputId": "fe4e8307-0a6b-482f-cf7b-d7001f04cf15"
      },
      "source": [
        "prices[['Paris Cost', 'Quebec Cost', 'Rio Cost']].mean(axis=1)"
      ],
      "execution_count": 67,
      "outputs": [
        {
          "output_type": "execute_result",
          "data": {
            "text/plain": [
              "Day\n",
              "Monday       83.33\n",
              "Tuesday      83.33\n",
              "Wednesday    83.33\n",
              "Thursday     83.33\n",
              "Friday      116.67\n",
              "Saturday    166.67\n",
              "Sunday      166.67\n",
              "dtype: float64"
            ]
          },
          "metadata": {
            "tags": []
          },
          "execution_count": 67
        }
      ]
    },
    {
      "cell_type": "markdown",
      "metadata": {
        "id": "Vbq-vJGmEo-i"
      },
      "source": [
        "Can conclude that the mean cost of an ad across all cities is the highest on Friday, Saturday, and Sunday."
      ]
    }
  ]
}