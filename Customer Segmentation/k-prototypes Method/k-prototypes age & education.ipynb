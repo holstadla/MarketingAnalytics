{
  "nbformat": 4,
  "nbformat_minor": 0,
  "metadata": {
    "colab": {
      "name": "Exercise 17.ipynb",
      "provenance": []
    },
    "kernelspec": {
      "name": "python3",
      "display_name": "Python 3"
    }
  },
  "cells": [
    {
      "cell_type": "code",
      "metadata": {
        "colab": {
          "base_uri": "https://localhost:8080/"
        },
        "id": "x_L9gZ_jL3No",
        "outputId": "f01fd2f2-f267-4de5-bce3-9baa2155135f"
      },
      "source": [
        "import pandas as pd \n",
        "import matplotlib.pyplot as plt\n",
        "%matplotlib inline\n",
        "\n",
        "from google.colab import drive\n",
        "drive.mount('/gdrive')\n",
        "#Change current working directory to gdrive\n",
        "%cd /gdrive"
      ],
      "execution_count": 1,
      "outputs": [
        {
          "output_type": "stream",
          "text": [
            "Mounted at /gdrive\n",
            "/gdrive\n"
          ],
          "name": "stdout"
        }
      ]
    },
    {
      "cell_type": "code",
      "metadata": {
        "colab": {
          "base_uri": "https://localhost:8080/",
          "height": 204
        },
        "id": "eN8L9FzcMHS7",
        "outputId": "04c38358-0cf1-4b79-cbc7-e962ac732bdb"
      },
      "source": [
        "#Read files\n",
        "datafile = r'/gdrive/My Drive/Data Projects/Marketing Analytics/Lesson 4/age_education.csv'\n",
        "df = pd.read_csv(datafile) #creates a dataframe\n",
        "df.head()"
      ],
      "execution_count": 2,
      "outputs": [
        {
          "output_type": "execute_result",
          "data": {
            "text/html": [
              "<div>\n",
              "<style scoped>\n",
              "    .dataframe tbody tr th:only-of-type {\n",
              "        vertical-align: middle;\n",
              "    }\n",
              "\n",
              "    .dataframe tbody tr th {\n",
              "        vertical-align: top;\n",
              "    }\n",
              "\n",
              "    .dataframe thead th {\n",
              "        text-align: right;\n",
              "    }\n",
              "</style>\n",
              "<table border=\"1\" class=\"dataframe\">\n",
              "  <thead>\n",
              "    <tr style=\"text-align: right;\">\n",
              "      <th></th>\n",
              "      <th>age</th>\n",
              "      <th>education</th>\n",
              "    </tr>\n",
              "  </thead>\n",
              "  <tbody>\n",
              "    <tr>\n",
              "      <th>0</th>\n",
              "      <td>27.007219</td>\n",
              "      <td>college</td>\n",
              "    </tr>\n",
              "    <tr>\n",
              "      <th>1</th>\n",
              "      <td>47.615409</td>\n",
              "      <td>highschool</td>\n",
              "    </tr>\n",
              "    <tr>\n",
              "      <th>2</th>\n",
              "      <td>51.382815</td>\n",
              "      <td>highschool</td>\n",
              "    </tr>\n",
              "    <tr>\n",
              "      <th>3</th>\n",
              "      <td>54.906622</td>\n",
              "      <td>highschool</td>\n",
              "    </tr>\n",
              "    <tr>\n",
              "      <th>4</th>\n",
              "      <td>27.719939</td>\n",
              "      <td>less_than_highschool</td>\n",
              "    </tr>\n",
              "  </tbody>\n",
              "</table>\n",
              "</div>"
            ],
            "text/plain": [
              "         age             education\n",
              "0  27.007219               college\n",
              "1  47.615409            highschool\n",
              "2  51.382815            highschool\n",
              "3  54.906622            highschool\n",
              "4  27.719939  less_than_highschool"
            ]
          },
          "metadata": {
            "tags": []
          },
          "execution_count": 2
        }
      ]
    },
    {
      "cell_type": "markdown",
      "metadata": {
        "id": "FMSBQQZmMPa2"
      },
      "source": [
        "Standardize numeric variable, age"
      ]
    },
    {
      "cell_type": "code",
      "metadata": {
        "id": "lHdby4vwMRwC"
      },
      "source": [
        "df['z_age'] = (df['age'] - df['age'].mean())/df['age'].std()"
      ],
      "execution_count": 3,
      "outputs": []
    },
    {
      "cell_type": "markdown",
      "metadata": {
        "id": "X7dmP8X7MgCk"
      },
      "source": [
        "Kprototypes from the kmodes module"
      ]
    },
    {
      "cell_type": "code",
      "metadata": {
        "colab": {
          "base_uri": "https://localhost:8080/"
        },
        "id": "boRtxPhYMjIs",
        "outputId": "a20b6c06-71ff-40ba-97c6-b4d1bf2df419"
      },
      "source": [
        "!pip install kmodes\n",
        "from kmodes.kprototypes import KPrototypes"
      ],
      "execution_count": 7,
      "outputs": [
        {
          "output_type": "stream",
          "text": [
            "Collecting kmodes\n",
            "  Downloading https://files.pythonhosted.org/packages/b2/55/d8ec1ae1f7e1e202a8a4184c6852a3ee993b202b0459672c699d0ac18fc8/kmodes-0.10.2-py2.py3-none-any.whl\n",
            "Requirement already satisfied: scikit-learn>=0.19.0 in /usr/local/lib/python3.6/dist-packages (from kmodes) (0.22.2.post1)\n",
            "Requirement already satisfied: scipy>=0.13.3 in /usr/local/lib/python3.6/dist-packages (from kmodes) (1.4.1)\n",
            "Requirement already satisfied: numpy>=1.10.4 in /usr/local/lib/python3.6/dist-packages (from kmodes) (1.19.4)\n",
            "Requirement already satisfied: joblib>=0.11 in /usr/local/lib/python3.6/dist-packages (from kmodes) (1.0.0)\n",
            "Installing collected packages: kmodes\n",
            "Successfully installed kmodes-0.10.2\n"
          ],
          "name": "stdout"
        }
      ]
    },
    {
      "cell_type": "code",
      "metadata": {
        "id": "IJGsmaXRNFEZ"
      },
      "source": [
        "#kmodes expects Numpy matrices rather than panda dataframes, so convert as a matrix in the X variable by using the values function\n",
        "X = df[['z_age', 'education']].values"
      ],
      "execution_count": 8,
      "outputs": []
    },
    {
      "cell_type": "code",
      "metadata": {
        "id": "2fl-zv1aNWhA"
      },
      "source": [
        "#perform k-prototypes with 3 clusters, specifying that education is categorical\n",
        "kp = KPrototypes(n_clusters=3)\n",
        "df['cluster'] = kp.fit_predict(X, categorical=[1]) #save the result of the clustering as a new column called cluster"
      ],
      "execution_count": 10,
      "outputs": []
    },
    {
      "cell_type": "code",
      "metadata": {
        "colab": {
          "base_uri": "https://localhost:8080/",
          "height": 204
        },
        "id": "v50Wt95eNzjN",
        "outputId": "1bb3193a-1d1d-436c-a98e-07523ded506c"
      },
      "source": [
        "df.head()"
      ],
      "execution_count": 11,
      "outputs": [
        {
          "output_type": "execute_result",
          "data": {
            "text/html": [
              "<div>\n",
              "<style scoped>\n",
              "    .dataframe tbody tr th:only-of-type {\n",
              "        vertical-align: middle;\n",
              "    }\n",
              "\n",
              "    .dataframe tbody tr th {\n",
              "        vertical-align: top;\n",
              "    }\n",
              "\n",
              "    .dataframe thead th {\n",
              "        text-align: right;\n",
              "    }\n",
              "</style>\n",
              "<table border=\"1\" class=\"dataframe\">\n",
              "  <thead>\n",
              "    <tr style=\"text-align: right;\">\n",
              "      <th></th>\n",
              "      <th>age</th>\n",
              "      <th>education</th>\n",
              "      <th>z_age</th>\n",
              "      <th>cluster</th>\n",
              "    </tr>\n",
              "  </thead>\n",
              "  <tbody>\n",
              "    <tr>\n",
              "      <th>0</th>\n",
              "      <td>27.007219</td>\n",
              "      <td>college</td>\n",
              "      <td>-1.446258</td>\n",
              "      <td>2</td>\n",
              "    </tr>\n",
              "    <tr>\n",
              "      <th>1</th>\n",
              "      <td>47.615409</td>\n",
              "      <td>highschool</td>\n",
              "      <td>0.438698</td>\n",
              "      <td>1</td>\n",
              "    </tr>\n",
              "    <tr>\n",
              "      <th>2</th>\n",
              "      <td>51.382815</td>\n",
              "      <td>highschool</td>\n",
              "      <td>0.783290</td>\n",
              "      <td>1</td>\n",
              "    </tr>\n",
              "    <tr>\n",
              "      <th>3</th>\n",
              "      <td>54.906622</td>\n",
              "      <td>highschool</td>\n",
              "      <td>1.105599</td>\n",
              "      <td>1</td>\n",
              "    </tr>\n",
              "    <tr>\n",
              "      <th>4</th>\n",
              "      <td>27.719939</td>\n",
              "      <td>less_than_highschool</td>\n",
              "      <td>-1.381068</td>\n",
              "      <td>2</td>\n",
              "    </tr>\n",
              "  </tbody>\n",
              "</table>\n",
              "</div>"
            ],
            "text/plain": [
              "         age             education     z_age  cluster\n",
              "0  27.007219               college -1.446258        2\n",
              "1  47.615409            highschool  0.438698        1\n",
              "2  51.382815            highschool  0.783290        1\n",
              "3  54.906622            highschool  1.105599        1\n",
              "4  27.719939  less_than_highschool -1.381068        2"
            ]
          },
          "metadata": {
            "tags": []
          },
          "execution_count": 11
        }
      ]
    },
    {
      "cell_type": "code",
      "metadata": {
        "colab": {
          "base_uri": "https://localhost:8080/",
          "height": 204
        },
        "id": "h537lXJmN3tt",
        "outputId": "7245af1d-a716-4121-81bd-a583eb5d7bab"
      },
      "source": [
        "#create dummy variables for categorical variable using pandas get_dummies function\n",
        "#concatenate onto df for analyzing results\n",
        "\n",
        "df = pd.concat([df, pd.get_dummies(df['education'])], axis=1)\n",
        "df.head()"
      ],
      "execution_count": 13,
      "outputs": [
        {
          "output_type": "execute_result",
          "data": {
            "text/html": [
              "<div>\n",
              "<style scoped>\n",
              "    .dataframe tbody tr th:only-of-type {\n",
              "        vertical-align: middle;\n",
              "    }\n",
              "\n",
              "    .dataframe tbody tr th {\n",
              "        vertical-align: top;\n",
              "    }\n",
              "\n",
              "    .dataframe thead th {\n",
              "        text-align: right;\n",
              "    }\n",
              "</style>\n",
              "<table border=\"1\" class=\"dataframe\">\n",
              "  <thead>\n",
              "    <tr style=\"text-align: right;\">\n",
              "      <th></th>\n",
              "      <th>age</th>\n",
              "      <th>education</th>\n",
              "      <th>z_age</th>\n",
              "      <th>cluster</th>\n",
              "      <th>college</th>\n",
              "      <th>highschool</th>\n",
              "      <th>less_than_highschool</th>\n",
              "      <th>college</th>\n",
              "      <th>highschool</th>\n",
              "      <th>less_than_highschool</th>\n",
              "    </tr>\n",
              "  </thead>\n",
              "  <tbody>\n",
              "    <tr>\n",
              "      <th>0</th>\n",
              "      <td>27.007219</td>\n",
              "      <td>college</td>\n",
              "      <td>-1.446258</td>\n",
              "      <td>2</td>\n",
              "      <td>1</td>\n",
              "      <td>0</td>\n",
              "      <td>0</td>\n",
              "      <td>1</td>\n",
              "      <td>0</td>\n",
              "      <td>0</td>\n",
              "    </tr>\n",
              "    <tr>\n",
              "      <th>1</th>\n",
              "      <td>47.615409</td>\n",
              "      <td>highschool</td>\n",
              "      <td>0.438698</td>\n",
              "      <td>1</td>\n",
              "      <td>0</td>\n",
              "      <td>1</td>\n",
              "      <td>0</td>\n",
              "      <td>0</td>\n",
              "      <td>1</td>\n",
              "      <td>0</td>\n",
              "    </tr>\n",
              "    <tr>\n",
              "      <th>2</th>\n",
              "      <td>51.382815</td>\n",
              "      <td>highschool</td>\n",
              "      <td>0.783290</td>\n",
              "      <td>1</td>\n",
              "      <td>0</td>\n",
              "      <td>1</td>\n",
              "      <td>0</td>\n",
              "      <td>0</td>\n",
              "      <td>1</td>\n",
              "      <td>0</td>\n",
              "    </tr>\n",
              "    <tr>\n",
              "      <th>3</th>\n",
              "      <td>54.906622</td>\n",
              "      <td>highschool</td>\n",
              "      <td>1.105599</td>\n",
              "      <td>1</td>\n",
              "      <td>0</td>\n",
              "      <td>1</td>\n",
              "      <td>0</td>\n",
              "      <td>0</td>\n",
              "      <td>1</td>\n",
              "      <td>0</td>\n",
              "    </tr>\n",
              "    <tr>\n",
              "      <th>4</th>\n",
              "      <td>27.719939</td>\n",
              "      <td>less_than_highschool</td>\n",
              "      <td>-1.381068</td>\n",
              "      <td>2</td>\n",
              "      <td>0</td>\n",
              "      <td>0</td>\n",
              "      <td>1</td>\n",
              "      <td>0</td>\n",
              "      <td>0</td>\n",
              "      <td>1</td>\n",
              "    </tr>\n",
              "  </tbody>\n",
              "</table>\n",
              "</div>"
            ],
            "text/plain": [
              "         age             education  ...  highschool  less_than_highschool\n",
              "0  27.007219               college  ...           0                     0\n",
              "1  47.615409            highschool  ...           1                     0\n",
              "2  51.382815            highschool  ...           1                     0\n",
              "3  54.906622            highschool  ...           1                     0\n",
              "4  27.719939  less_than_highschool  ...           0                     1\n",
              "\n",
              "[5 rows x 10 columns]"
            ]
          },
          "metadata": {
            "tags": []
          },
          "execution_count": 13
        }
      ]
    },
    {
      "cell_type": "markdown",
      "metadata": {
        "id": "dW8nCvkQPegp"
      },
      "source": [
        "Export to Excel"
      ]
    },
    {
      "cell_type": "code",
      "metadata": {
        "id": "Tqwr0F1sPf59"
      },
      "source": [
        "df.to_csv('/gdrive/My Drive/Data Projects/Marketing Analytics/Lesson 4/exercise17clusters.csv')"
      ],
      "execution_count": 19,
      "outputs": []
    },
    {
      "cell_type": "markdown",
      "metadata": {
        "id": "2hmtlhv_ONVH"
      },
      "source": [
        "Plot Data"
      ]
    },
    {
      "cell_type": "markdown",
      "metadata": {
        "id": "8Pj5qovySVP_"
      },
      "source": [
        "![Screen Shot 2020-12-19 at 4.17.42 PM.png](data:image/png;base64,iVBORw0KGgoAAAANSUhEUgAAAbUAAABBCAYAAABW3jpmAAAK3mlDQ1BJQ0MgUHJvZmlsZQAASImVlwdQk9kWgO//p4eEAAkRkBJ6E6QTQErooUsHUQlJIKGEmIKCXVlcwVVBRASUFVwVUXB1BWQtiAUrig0VdUEWBeW5WLCh8n7gEXb3zXtv3pm5Od+cnHvKnXtnzg8AOYQjFmfCKgBkiWSSyABvRnxCIgP3OyABKlAGKsCRw5WKWRERIQCRaf1XeX8PQBP6ttVErH///7+KGo8v5QIAJSGcwpNysxBuQ9YrrlgiAwB1BLEbLpWJJ/gOwjQJUiDCgxOcNsVfJjhlktEqkz7RkT4IGwGAJ3E4kjQASDaInZHDTUPikCIQthHxhCKE1yDswRVweAgjecGcrKzsCR5G2AzxFwNApiHMTPlTzLS/xE9RxOdw0hQ81dek4H2FUnEmJ/f/PJr/LVmZ8ukcJsgiCSSBkYimI+d3PyM7WMGilLDwaRbyJv0nWSAPjJlmrtQncZp5HN9gxd7MsJBpThX6sxVxZOzoaeZL/aKmWZIdqciVKvFhTTNHMpNXnhGjsAv4bEX8PEF03DTnCGPDplmaERU84+OjsEvkkYr6+aIA75m8/ores6R/6lfIVuyVCaIDFb1zZurni1gzMaXxitp4fF+/GZ8Yhb9Y5q3IJc6MUPjzMwMUdmlOlGKvDLmcM3sjFGeYzgmKmGYQAvxAGGAg2g44gyxghWgmADL+MtlEMz7Z4lyJME0gY7CQF8dnsEVc6zkMOxs75OZNvN+pK/E2cvJdQvTTM7bsvchVfo+8meIZW0opAM0FAGg8nLEZ7QaAkg9AUztXLsmZsqEnfjCACCiABjSBLjAEZpOVOQE34IVUHATCQTRIAIsAFwiQqiVgKVgB1oICUAS2gu2gAlSDWnAAHAZHQTM4Cc6Ci+AquAnugh7QCwbASzAC3oMxCIJwEBmiQpqQHmQMWUJ2EBPygPygECgSSoCSoTRIBMmhFdB6qAgqgSqgPVAd9DN0AjoLXYa6oAdQHzQEvYE+wyiYBNNgHdgEngszYRYcDEfDC+E0eAmcB+fDm+FyuAY+BDfBZ+Gr8F24F34Jj6IASglFR+mjrFBMlA8qHJWISkVJUKtQhagyVA2qAdWK6kDdRvWihlGf0Fg0Fc1AW6Hd0IHoGDQXvQS9Cr0JXYE+gG5Cn0ffRvehR9DfMGSMNsYS44phY+IxaZilmAJMGWYf5jjmAuYuZgDzHovF0rGmWGdsIDYBm45djt2E3YVtxLZhu7D92FEcDqeJs8S548JxHJwMV4DbiTuEO4O7hRvAfcQr4fXwdnh/fCJehF+HL8MfxJ/G38I/x48RVAjGBFdCOIFHyCVsIewltBJuEAYIY0RVoinRnRhNTCeuJZYTG4gXiI+Ib5WUlAyUXJTmKwmV1iiVKx1RuqTUp/SJpEayIPmQkkhy0mbSflIb6QHpLZlMNiF7kRPJMvJmch35HPkJ+aMyVdlama3MU16tXKncpHxL+RWFQDGmsCiLKHmUMsoxyg3KsApBxUTFR4WjskqlUuWESrfKqCpV1VY1XDVLdZPqQdXLqoNqODUTNT81nlq+Wq3aObV+KopqSPWhcqnrqXupF6gDNCzNlMampdOKaIdpnbQRdTV1B/VY9WXqleqn1HvpKLoJnU3PpG+hH6Xfo3+epTOLNYs/a+Oshlm3Zn3QmK3hpcHXKNRo1Lir8VmToemnmaFZrNms+VgLrWWhNV9rqdZurQtaw7Nps91mc2cXzj46+6E2rG2hHam9XLtW+5r2qI6uToCOWGenzjmdYV26rpduum6p7mndIT2qnoeeUK9U74zeC4Y6g8XIZJQzzjNG9LX1A/Xl+nv0O/XHDEwNYgzWGTQaPDYkGjINUw1LDdsNR4z0jEKNVhjVGz00JhgzjQXGO4w7jD+YmJrEmWwwaTYZNNUwZZvmmdabPjIjm3maLTGrMbtjjjVnmmeY7zK/aQFbOFoILCotbljClk6WQstdll1zMHNc5ojm1MzptiJZsaxyrOqt+qzp1iHW66ybrV/NNZqbOLd4bsfcbzaONpk2e216bNVsg2zX2bbavrGzsOPaVdrdsSfb+9uvtm+xf+1g6cB32O1w35HqGOq4wbHd8auTs5PEqcFpyNnIOdm5yrmbSWNGMDcxL7lgXLxdVrucdPnk6uQqcz3q+oeblVuG20G3wXmm8/jz9s7rdzdw57jvce/1YHgke/zo0eup78nxrPF86mXoxfPa5/WcZc5KZx1ivfK28ZZ4H/f+4OPqs9KnzRflG+Bb6Nvpp+YX41fh98TfwD/Nv95/JMAxYHlAWyAmMDiwOLCbrcPmsuvYI0HOQSuDzgeTgqOCK4KfhliESEJaQ+HQoNBtoY/CjMNEYc3hIJwdvi38cYRpxJKIX+dj50fMr5z/LNI2ckVkRxQ1anHUwaj30d7RW6J7Ysxi5DHtsZTYpNi62A9xvnElcb3xc+NXxl9N0EoQJrQk4hJjE/clji7wW7B9wUCSY1JB0r2FpguXLby8SGtR5qJTiymLOYuPJWOS45IPJn/hhHNqOKMp7JSqlBGuD3cH9yXPi1fKG+K780v4z1PdU0tSB9Pc07alDQk8BWWCYaGPsEL4Oj0wvTr9Q0Z4xv6M8cy4zMYsfFZy1gmRmihDdD5bN3tZdpfYUlwg7l3iumT7khFJsGSfFJIulLbIaMigdE1uJv9O3pfjkVOZ83Fp7NJjy1SXiZZdy7XI3Zj7PM8/76fl6OXc5e0r9FesXdG3krVyzypoVcqq9tWGq/NXD6wJWHNgLXFtxtrr62zWlax7tz5ufWu+Tv6a/P7vAr6rL1AukBR0b3DbUP09+nvh950b7Tfu3PitkFd4pcimqKzoyybupis/2P5Q/sP45tTNnVuctuzeit0q2nqv2LP4QIlqSV5J/7bQbU2ljNLC0nfbF2+/XOZQVr2DuEO+o7c8pLxlp9HOrTu/VAgq7lZ6VzZWaVdtrPqwi7fr1m6v3Q3VOtVF1Z9/FP54f0/AnqYak5qyWmxtTu2zvbF7O35i/lS3T2tf0b6v+0X7ew9EHjhf51xXd1D74JZ6uF5eP3Qo6dDNw76HWxqsGvY00huLjoAj8iMvfk7++d7R4KPtx5jHGn4x/qXqOPV4YRPUlNs00ixo7m1JaOk6EXSivdWt9fiv1r/uP6l/svKU+qktp4mn80+Pn8k7M9ombhs+m3a2v31xe8+5+HN3zs8/33kh+MKli/4Xz3WwOs5ccr908rLr5RNXmFearzpdbbrmeO34dcfrxzudOptuON9ouelys7VrXtfpW563zt72vX3xDvvO1bthd7vuxdy7353U3Xufd3/wQeaD1w9zHo71rHmEeVT4WOVx2RPtJzW/mf/W2OvUe6rPt+/a06inPf3c/pe/S3//MpD/jPys7Lne87pBu8GTQ/5DN18seDHwUvxybLjgH6r/qHpl9uqXP7z+uDYSPzLwWvJ6/M2mt5pv979zeNc+GjH65H3W+7EPhR81Px74xPzU8Tnu8/OxpV9wX8q/mn9t/Rb87dF41vi4mCPhTI4CKGTBqakAvNmPzMcJAFBvAkBcMDVfTwo09U0wSeA/8dQMPilOANR2AxC9HICQ6wDsrEBGWiQ+BfkuiKAgdjcA29sr1r9EmmpvNxWL5ImMJo/Hx9+aAYArBuBr8fj4WO34+NdapNgeANpyp+b6CbFpAID/zN6fFdojKwZ/l6mZ/089/l2DiQocwN/1PwG0FhyhOrO5EQAAAFZlWElmTU0AKgAAAAgAAYdpAAQAAAABAAAAGgAAAAAAA5KGAAcAAAASAAAARKACAAQAAAABAAABtaADAAQAAAABAAAAQQAAAABBU0NJSQAAAFNjcmVlbnNob3T3AxW7AAAB1WlUWHRYTUw6Y29tLmFkb2JlLnhtcAAAAAAAPHg6eG1wbWV0YSB4bWxuczp4PSJhZG9iZTpuczptZXRhLyIgeDp4bXB0az0iWE1QIENvcmUgNS40LjAiPgogICA8cmRmOlJERiB4bWxuczpyZGY9Imh0dHA6Ly93d3cudzMub3JnLzE5OTkvMDIvMjItcmRmLXN5bnRheC1ucyMiPgogICAgICA8cmRmOkRlc2NyaXB0aW9uIHJkZjphYm91dD0iIgogICAgICAgICAgICB4bWxuczpleGlmPSJodHRwOi8vbnMuYWRvYmUuY29tL2V4aWYvMS4wLyI+CiAgICAgICAgIDxleGlmOlBpeGVsWERpbWVuc2lvbj40Mzc8L2V4aWY6UGl4ZWxYRGltZW5zaW9uPgogICAgICAgICA8ZXhpZjpVc2VyQ29tbWVudD5TY3JlZW5zaG90PC9leGlmOlVzZXJDb21tZW50PgogICAgICAgICA8ZXhpZjpQaXhlbFlEaW1lbnNpb24+NjU8L2V4aWY6UGl4ZWxZRGltZW5zaW9uPgogICAgICA8L3JkZjpEZXNjcmlwdGlvbj4KICAgPC9yZGY6UkRGPgo8L3g6eG1wbWV0YT4KMi92/gAAGd9JREFUeAHtXQl8Tcf3P7HUvkUIUb9f0SJiqUQsTUKCtEksRSy/qpaUVltFi1ZL/YR+qqgmpFVLG9qfVlNKadDSRu20qOWHWqpq6d8akSglftz/nOE+827uvC3vvtz3nPGJO3fumTNnvmfunDvLm+N36HieAl4Wdm7fCr8dOeiS1A8+1BDCwtu4lJcyEQKEACFACJgbgRLmFk9fOjRo414fpv/QTupbk9PIqNnBiB4TAoQAIeCtCBTzVsFJbkKAECAECAFCQIuAV47UsBKK4nWzplrs6Z4QIAQIAULAzQgUaqSWm5sD639cA39dznOzWPbZoVFz5c8+Z6JwBYFr1/6G9WtXww623imGomgjRpdpi/+VK3+J1S8Qt5W3ALFOQmHzqyzdxUflZ/TVlfZFunCvVmQ6cKYUsd2JcWd42KN12KhdvXoF3puSDE8kxkJi53bwfuok2LLxR3huQE/4ZedP9sop8Pzob4chL/dSgfSiTFi2ZCH06x0PbyePdqsYRvHVCjl3Vir07BINXR9rAylTJ2gfG3o/OKkXPId/rD2IYeum9S63EZGPvbjYnowuU8b/m6+/hNBGQfDDmpVScWV5pRk0DwqbX2XnCh9val++qgsz6kBtU45cxXYnxh3J6yiNQ0YNR0QD+naFuR+mgJ9fMagRVAvmsLirRunixWxI6NACPmKdsKtBHKUlJyfDsGHDdP/GjRtnNaKzVV76nDTY/tNmWPDJbDh39owtUqeeGcVXFAJf4vcmj4cq/lUhvHUkrF61XHxsaPx///sf/LR1I3Tq2hM2bT9saFl6zN3RnvT4OpvWpFkoPPPcMAhu1MTZrKan97b25Yu68DYdFFWjdsio4Zfnnl3boUu33rDwq9Uwc+5CWLNuF1SsVNki95ZN6/go4dDB/Txt1PBBMOHNEXDh/DkY8uwTEPNICB/l4f3oV57jNMuWZsDwF5/m8UULP4HunaIgnhm7d98ZB9hRooHp9Xh7PnJqH9EYzpz+01KeaNR69OjBjK0fBAQEQM2aNflf9erVOW2XLl0cMmpHDv8Khw8dgLYxj3L6VSuW8PzP9k+Ef78xnMdx+N038VFInzMDrl+7BuPeGAZxMWFcbkxfzuqjDTK+tvLrYaHlq70/dHAfT+r1r/4wbsK7sHrdL/xephcV249nT4eEjuG8Xmt/WAVP9oqD+PZhgDLohWVLvoA+3TtCx6hmMPT5fnDyxB/w0nNPcsx+3rYR0lIm6WWzpOnVTa+N6KVZmGgieu0JSZYu+sxSt6NHDsHp/zvF21uHyCa8nc16/13OScVi3tw06NSxJccC6e0FLf/s7AuwfdsmyMnJtts+tHll9f3s07nweHwEb2eiTrT5UVY93dhKt1c/8bnZ25cWD1/UhZl1oNdOZe1RbFdiXK9vcKWfdMio/bp/Dy8bjZoagmrV5qM29f78uTPw372/QO6lHJ60f99uOPTrPpj30fuw9odvYeToZGjVpi3k51+H+g0bcZqAatWhYXAT2LZlAzcQzUNbQnT7OPh49gxYuvhzyL5wHvbu3gEZC+dB/QYh4FfsrriiUQsJCYHu3btDXl4e3LhxA27evAm5ubmQkJAAYWFhDhm1FcsXQzHGf+Kk6VCufAVYsfwrLmPJkiXhqy//w/jlwFZmuHfu2Ab+VQPgi8/TeaeZ9OxLcCM/Hw4xg/jPB+qqcFiuMr6y/DIsLAwlkTYR0fzJsBeegldeSoLjfxzl9zK9qNjiiBt/u4f1emHgv6AS+1DJy8uFt5Jf5R2zWByOxkaPGAylS5dmHzi94Mes7wA/XhoEh3Ay/6rVoG69+mIWq7isbnptRC/Niplwo21P6iM06I1CmvG6paW+DYfZB9c19jEycPBwqFXrHzB92lvw+9HDlnb2ITNywSFNLfQqH9lVy//CubP8HbjIjJtMvyovbV69+m7akAVv/XsUFC9eHNpGx8K2rRvU7KDNL9ONLN3CyMGI2duXFg9f1IVZdaDXTp1td7K+QfYeyeixORdzpE3n3ln7KlOmrCPkVjSVKleBW7duwddfLYSWraMAjeHAwS9zmsio9vDC0FdhHdtggKFEiZLMsPjx+N7d2/kV/xs3YRrMnvclBAbWtKSJRg3jkZGR0KZNG7h06RJcvHgRmjVrBh07drQyaEgnCyu/WQLNmodDhYqVILJte/jvnp1w4vjvENepOzeS67JWQxYbyaCR6xDbiRtvNLKNGjeDmkH3g79/ADzMjLI2yPii8dfLbw8LLX/1PrJtB5iVnsEN1KrMJdCDrXuePXtafSy9TmBGPG3WAihfoSKEt4qADz/OgMTeT0H+9esMxwtW+bLurBVNSZkDw0e+CbGPdobdv/wMAwYO4XStmH57P9HfKo94I6ubXhvRSxN5iXFte1KfJU9KhWkzPoYH6jwIf548Ae3aPwYvsvZ2k80ClGcfLhjOnrmL0cR3ZljRq3xkVy1/kU6mX5VGm1evvpvWZ3Hyd1M/gjHjJ0PK+/PU7KDNL9PNmm9vT0NrdXbjRr6FlyMRs7cvLR5inXxFF2bVgV47lbVHWbuT9Q0y3cnoUe8Obemv/Y8HeBvZxTqwlmy9Ri/g9B8GnDbk4Y4BeebZoaAwo/Y5m0ZJepKty33yFTRpFnabBG4bmat3dozhKA4Nz9NJL8AjkdFwnXWsGGrUDOJX8T89A4VTjTk5OTxfr169OC8xjyyOo8GTJ47xv7CQWhYyNEhPDRgMJe+7D75fnQm72IaYNpExfNoVR2U4QsONGeXKlQc0Dtpgi68svwwLLW+9+/YdEyCmQzyf9v3is3TYwaZvZXpR86ude6lSpfgIFdNLly7DH+PHiBiuXr29sw/ri6HUHTq2D1Ukk8ZldYtsxz4+NG1Er920Y1PDtoJWDrVupcuUgVvKLViyaAGMeXUIRLCPKRUXkZ+WXnymF7dFL9OvykebV6++ly/ncvLqgTXUbJarNr9MN1fYBi8MWp1ZGDkRMXP70uIhVsuXdGFGHei1U1l7FPUixmV9A86Q6fWzMnrk6ZBRi0voBilTJsCHM6bALTa1h9NvOD3Yo2dfi1yVq/jz+OIvPoHNG7PYtM4RCGtRFdaxKarWj7SFB+sH87W148eO8hEBEuNxV/i8QXBjnhdHPLFxXQB3stWq/U/4nV1lQc+oIe3TT99eo8O4jAafiUGdakyd+QmffsPpS1wnwqlDHElGte0I33+XybPEd+rGrzjdgZsy+j41CAJrBMFDrH7aYItvSJOHdfPLsNDy1t5PmvA659eITZ+dOH6MP8aPkUt3poO1etHmd+S+YaOmnGxm2lRow3T6I5tWbsg2RahG0B4PWd302giOFLXtBmL0S8DpUAxqe9KnwufbuDEb/ebbkMGMvpHBkfYhlq+HQf2Gt6d1U9k0aWhYK9i3d5fubADykemmcZPm8DV7V7U6K1nyPrF4u3FvaF+ySviKLsyqA712KmuPsnYn6xu+Xfm10/2kQ0atRs1a8P6cz/gIANchMOBUG649YcA5//CWEYAv0KoVS9nIqhaflsPptV8P7IWXBk/hdLh2g9N5ZcuW4yOKH7O+hXfeGgOZq7fCZrZ+gNvQ8a9UqdLwwdzPOV+VP2dg0H+4NoRGJqFzD0sJMR3j4LuVy/hGiM6P92Trgqu4XB0e7cRp7mdG91LORdjIpohOnfwDcB3lPxkr2bphlIWHLb6tI9rp5u/V52ldLOo3uL0OaWGuieDXPOoG1xTvY6OuYSPGQtOHW/BpRD29oM4wWK7FikMJbdqde7UolG3LxrUwn62T4h9O673z7od8LVLkpdKLaViOrG56bSSDrVlq243IV4xr29Oo12//nEGtW4niJfhUb+fHezGdfs1/8oBtEQOuo6p06lWlF8sQ4yqdelXp1Xu8ytqHSIM81bx6GJSvUIF/OOAsB/71f+ZFqawy3dR7sIGuzv48dYJXSZVHrJ9e3BvaF8qt4qnWy5d0YVYd4OY0/MAV26msPYrtTtSRrG+QvUcyeuwn/Zw90PjSpYtQzK+YZedjPpuCu49Nz6kBd3FVDahmWctCwXEImX89H3BjiDjtg5sVypUvb/nSx9/C4RxqQLVAvnaFPLX8Me3LhfPZBoVnMep0mDbjI+jTN8kqHxoClBM7ODXgKA+HvWggMKAcSKMqAndj4vrbp19kwppvM9lZlEPh7akfQE/W8avBFt84tsPQVn49LFS+sivuFMJ1MBE/lVZPLyK2OG2M9cc/Xnc0joJeVT54Rdmu/f03H7Gr6VjXEiWY8bgzDa2m41UsB+/16qbXRrRp+OGgnRJFeXHmAIPYnsQyceSNAXWHGF1mhwVgWxRpxLhKj21RVp4ePfJX0221D5UGZVLLwrza+uJzDJjux/6pu41l+ZFWTzeydJEP0tgL3tC+RDzV+vmSLsyqA2w72naKaXrtUdULPhfjKr1oA2zpTo8e05w2apipqAMatZHDBrkkxntpHxcwaq4wSkt5m/9uDztzDNEd4iD1g/l8FOoIv8Lmd6QMX6JBg9YmtK5ulXbu/9Oy8UOXwIXEwpZH+nUBdIOykC4MAtYDbF3RnVcaNbO4nsGvpuzs84DriTgF5mwobH5ny/N2evxNnMI2fIgBDwNQNzKJ6e6IF7Y80q87tOAeHqQL9+BYFFyc1Z1fypdHHNu6VhS1oTIJAUKAECAECAEnEPBj6ydk1JwAjEgJAUKAECAEzIvA3Z0R5pWRJCMECAFCgBAgBBxCgIyaQzARESFACBAChIA3IEBGzRu0RDISAoQAIUAIOISA4UZt9erV0KlTJ4iKioKZM2c6JJTZiS5fvgydO3eGsWPHWkSdM2cOREdHQ0REBCxcuNCSrkYWL14McXFxVn+Yh0LhEbhy5QqMHj0awsPDoUOHDoBtDoMMc1l64SUhDmZAwBf7nKLGVfaOydKLUl6HThRxVcDffvuNn54/e/ZsCAoKgp49e0LdunUhPj7eVZamyDdhwgTYvHkz/+EgCrRixQpu4LCzPH/+PPTr1w+aN28OwcF3j85q2bIlP91ercDgwYMhNjZWvaVrIRA4ePAg99AwdepU/kGRmJjI9SDDHD8u1KO1sFjSRSHAN1lWX+1zihpm2TsmSy/DzlstsoC7H40KkyZNUpj7Fwv7QYMGKawDsdx7Y+TAgQNKYGCgMnnyZIUZJV6FESNGKElJSZbqMI8ByvTp0y332siWLVuUsmXLKtnZ2dpHdF9IBPbu3Yu7eZUTJ05YcZJhLku3ykw3XoOAL/Y5ZgNf9o7J0j0tv6HTj8ePH4cGDRpYDHa9evXg9Om7rj4sD7wogh62x48fzx2SqmJXqVIF9u3bx0dueOwLHhd17tw59XGBa0pKCh/N+fvfPgS6AAEluIzA999/D7Vr14b777/fiocMc1m6VWa68RoEfLHPMRv4sndMlu5p+Q2dfkSHjOXK3T1pAzt77Vl6nq5wYcpbsmQJXLhwgU9XzZ8/38KKjUDhm2++Yf7eArlBw3MU27Zta3kuRo4dOwbLli2DPXtuO14Vn1G8cAgcOnQIJk6cCOnp6VZnUMowl6UXTgrKXZQI+FqfU5RY6pUte8dk6Xo8jE4z1KgFBARYjczOnDkD1atXN7pOhvFPS0tjB3Re5ZtETp48yev22muvAa7l/Pzzz/A3O+QX12pat24NDz30kK4cM2bM4BtKGjWyfeq+bmZKlCKAbQs3JL388suAa2pikGEuSxfzUty7EPC1PsdM6MveMVl6kclu5Hzn8uXLFdbIlLNnzyrMI7VSp04dZdGiRUYWaSjvXbt2KVlZWfwP19FCQ0MVTGM7gBQ27cjLZjsflUqVKvH6sq9Ghe1wVJgh5M8QgwoVKihsY4mhct5rzJmnc6Vx48bK0KFDC1RdhrksvQADSvAqBHytzzEL+LJ3TJZelHKjmxHDAjvBXmE7ARU2Bamw9SMFN4qwqTnDyvMkYzbFpTz22GO8yMzMTKVixYpKtWrVuOFGw4eBTW8pbMpVOXz4ML9nIz2lfv36zMnzLX5P/7kHgU8//ZRvDmFfhgpzfcP/UlNTbWJOunAP9mbj4st9TlFiLXvHZOlFKatHzn7EKTv0eyVuoy6yoambCmZK476wcJ0QA/5e4zrz1qzd/IHrayoNridiPtUnm5tEITY2EJBhLku3wYoeeRECvtjneBH8RSqqR4xakdaQCicECAFCgBC4ZxAwdEv/PYMiVZQQIAQIAULAFAiQUTOFGkgIQoAQIAQIAXcgQEbNHSgSD0KAECAECAFTIEBGzRRqICEIAUKAECAE3IEAGTV3oEg8CAFCgBAgBEyBABk1U6iBhCAECAFCgBBwBwKGGzX8ndaUKVOga9eu7pC3SHngb9HwKCbVL1r37t0t8tjz4WRGv0MW4X04Yk8vPlx1n64avk+jRo2CFi1aQExMDKxatYrXV/aekQ+9wjUHGd7I1WzvmKFnP6JBQ59W+IPjU6dOFQ5VE+T+66+/YMOGDZCRkcGlKVWqFL864sPJlH6HTICpkSI4ohcjyyfexiFw5MgRfqADOtrF97FPnz7Ajj4D2Xsm861nnIS+xVmGNx4Kjh/3pvKZaeRxJjdv3lQ2bdqkMIea/AxII8vyBG92cCc/7ktblrM+nMzid0hbD1+7d1Yvvlb/e6U+7ENTYScWKexAcasqy94z8qFnBZPTNyLeZnzHDJ1+xKOxIiIifOaThZ0rCLm5ufyU/d69e3N3M1g5Z304mcXvkM8oRlIRZ/UiYUPJJkUAp72Ys14YMGAAjBkzpsAxfLL3jHzouaZQPbzN+I4ZatRcg868udCtxfr16/kaYatWraBHjx6wfft2QB9OaPDUYMtvnOp3iB24a5VHzUtX9yHgjF7cVypx8hQCON2I/g2ZF3m+rpOXl2cpWvae4XQZ+jMcPny4hZYijiGgh7cZ3zEyao7pk1OpI080aCNHjoSQkBDYuXMn94KNPoXUgHE9v3Gm8zukCuyjV/wIcUQvPlp9n68WrqNNmzaN+zLENR80VhhsvWfkQ8/1ZqGHtxnfMTJqTuj46NGjkJ2dzXPs378fcCMC8+PFvVyvWbMGzp07x6cnly5dyndI4qn9c+fO5c5Dc3JyIDY2FhISEiA5OdmJUonUVQTQ+7ieXlzlR/nMg8Du3buBuXTiAqHDXhwx4IekrfcMlw7mzZvHHcmapybeIYkMb1O+Y06vEjqRATeKVK1aVSlTpgz3d4UOMlU/V06wMQ0pOgDFOgQFBfHrxIkTuWwyH06iPzUz+h0yDbAGCSLTi0HFEVsPIrBy5Uq+aSswMJD3L0OGDOF+Cm29Z+RDz3UFyfA24ztGrmec/FBiSgTm7RWYQ1C+pVjMrufDSfSnJtJS3HMI6OnFc6VTSUYhgD7xzp8/z30YlixZ0m4x5EPPLkQ2CWzhbaZ3jIyaTTXSQ0KAECAECAFvQoDW1LxJWyQrIUAIEAKEgE0EyKjZhIceEgKEACFACHgTAmTUvElbJCshQAgQAoSATQTIqNmEhx4SAoQAIUAIeBMCZNS8SVskKyFACBAChIBNBMio2YSHHhIChAAhQAh4EwKGGjWZbyNvAkiU1VZ90AVGdHQ0P8CZ/UhbzMbjtvIWIKYElxFAnGU+7/A0GDzzD485Q10dOHDA5XIoo3kRID27Rze2+qz09HRo164df5fwhCT2s26wRe8eiRzjYqg/NZlvI3bCiGPSmYxKVp+srCwYO3YsoCNC/DFov379oHnz5hAcHGypgSyvt2JhqZjJIjKfdyhmt27dgJ0Gw30/Xb58GSpVqmQy6UkcdyBAenYHiiD1TYeHRT///POwfPlyfu4tHv0XHh4ONWrUADxUeurUqYAf9omJibw/9Hgf5/rBKc7llPk2co6LeajF+owYMUJJSkqyCBcZGalMnz7dcq+NiHm1z+i+cAiww2x1fd7t2LFDqVy5ssJOPihcAZTb1AiQno1Rj9hnMZc+SpUqVRR2aj/3YccONVZWrFhhVbBIb/XAAzeGTj+K3wsy30YijTfFxfowBcO+ffsgPz+f/6HrGTzcWBbEvDIaSncNAZnPOzyQFV2U9O/fH6Kiovihtjhao+BbCJCejdGn2GfFxMTwd6hFixaAHsVxuj8+Pt6qYJHe6oEHbgydflTlV30b4Tys6HdMfe5tV219Bg0axB2GssNVAQ0anveIp1frBW1ePRpKcx0B1ecd6oF5Xec+77Zu3Qo4LVm8eHHuUJIdsg0DBw4ENnKDZPKY4DrYJsxJena/UrR9FvZv+A6VLl0a2KH1oHovwfNwMWjp3S+RHY5GjwZPnz6t1KtXTxk/frzRRXmEv6364NQWO/RTYV8vyoIFCwrIYytvAWJKcAsCTZs2VWbNmqUwlyNKWFiYhecbb7yh9O3b13JPEd9AgPTsXj3q9VnMc7jC1tAU5lqL/7ENI8orr7zCC9ajd69E9rkZOv1oy7eRHVtrysey+uAJ1Xh6Py6IZmRk8C+VLl26APlT87wa1a9GLFn0eRcaGgp79uzhPvBQL2vXruVOXj0vIZVoJAKkZ/ehK+vvcDMcMy28IHScjB4ScMQmo3efRA5ysm/3XKew5dvIda5Fl1NWn8zMTKVixYoKG34rderUUdhuSC4k+VPzvK5kPu9QEvS5xT48+CI3WwdQ2Jqa5wWkEg1HgPTsHohl/d3x48cVnAEpV64c7/fYTm8F02T07pHGcS7kesZB42+PDH+jgSMAf39/K1Lyp2YFh0dubPm8wzUXXNdlL6RHZKFCigYB0rPxuLPdj9ynJPugN74wJ0ogo+YEWERKCBAChAAhYG4EDF1TM3fVSTpCgBAgBAgBX0OgBC6m32shJCSEbyLw1np7u/zeivu9Ije1L3NomvTgmh7+Hw1Vr87LSRQlAAAAAElFTkSuQmCC)"
      ]
    },
    {
      "cell_type": "markdown",
      "metadata": {
        "id": "Wqc5WsrITePK"
      },
      "source": [
        "![Screen Shot 2020-12-19 at 4.20.21 PM.png](data:image/png;base64,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)"
      ]
    },
    {
      "cell_type": "markdown",
      "metadata": {
        "id": "_J9_ndkfTG4b"
      },
      "source": [
        "![Screen Shot 2020-12-19 at 4.18.32 PM.png](data:image/png;base64,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)"
      ]
    },
    {
      "cell_type": "markdown",
      "metadata": {
        "id": "3e903tXQTkoj"
      },
      "source": [
        "Cluster characteristics and observations: \n",
        "\n",
        "\n",
        "*   Cluster 0 - majority less than high school, older avg age\n",
        "*   Cluster 1 - majority high school, older avg age\n",
        "* Cluster 2 - majority college, younger avg age\n",
        "\n"
      ]
    }
  ]
}