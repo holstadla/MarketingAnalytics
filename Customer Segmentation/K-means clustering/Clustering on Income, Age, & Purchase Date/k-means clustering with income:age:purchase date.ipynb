{
  "nbformat": 4,
  "nbformat_minor": 0,
  "metadata": {
    "colab": {
      "name": "Exercise 13.ipynb",
      "provenance": []
    },
    "kernelspec": {
      "name": "python3",
      "display_name": "Python 3"
    }
  },
  "cells": [
    {
      "cell_type": "code",
      "metadata": {
        "colab": {
          "base_uri": "https://localhost:8080/"
        },
        "id": "WBpCn5RmTLok",
        "outputId": "4a139fc7-7ccd-4a30-f956-003ed5d590cd"
      },
      "source": [
        "import pandas as pd \n",
        "import matplotlib.pyplot as plt\n",
        "%matplotlib inline\n",
        "from sklearn import cluster\n",
        "from sklearn import decomposition\n",
        "\n",
        "from google.colab import drive\n",
        "drive.mount('/gdrive')\n",
        "#Change current working directory to gdrive\n",
        "%cd /gdrive"
      ],
      "execution_count": 1,
      "outputs": [
        {
          "output_type": "stream",
          "text": [
            "Mounted at /gdrive\n",
            "/gdrive\n"
          ],
          "name": "stdout"
        }
      ]
    },
    {
      "cell_type": "code",
      "metadata": {
        "colab": {
          "base_uri": "https://localhost:8080/",
          "height": 204
        },
        "id": "Im86jAt_TaJ0",
        "outputId": "e0c0556d-550f-479b-96b3-9b0601749578"
      },
      "source": [
        "#Read files\n",
        "datafile = r'/gdrive/My Drive/Data Projects/Marketing Analytics/Lesson 3/three_col.csv'\n",
        "df = pd.read_csv(datafile) #creates a dataframe\n",
        "df.head()"
      ],
      "execution_count": 7,
      "outputs": [
        {
          "output_type": "execute_result",
          "data": {
            "text/html": [
              "<div>\n",
              "<style scoped>\n",
              "    .dataframe tbody tr th:only-of-type {\n",
              "        vertical-align: middle;\n",
              "    }\n",
              "\n",
              "    .dataframe tbody tr th {\n",
              "        vertical-align: top;\n",
              "    }\n",
              "\n",
              "    .dataframe thead th {\n",
              "        text-align: right;\n",
              "    }\n",
              "</style>\n",
              "<table border=\"1\" class=\"dataframe\">\n",
              "  <thead>\n",
              "    <tr style=\"text-align: right;\">\n",
              "      <th></th>\n",
              "      <th>income</th>\n",
              "      <th>age</th>\n",
              "      <th>days_since_purchase</th>\n",
              "    </tr>\n",
              "  </thead>\n",
              "  <tbody>\n",
              "    <tr>\n",
              "      <th>0</th>\n",
              "      <td>56432</td>\n",
              "      <td>31</td>\n",
              "      <td>492</td>\n",
              "    </tr>\n",
              "    <tr>\n",
              "      <th>1</th>\n",
              "      <td>137580</td>\n",
              "      <td>38</td>\n",
              "      <td>551</td>\n",
              "    </tr>\n",
              "    <tr>\n",
              "      <th>2</th>\n",
              "      <td>68285</td>\n",
              "      <td>59</td>\n",
              "      <td>304</td>\n",
              "    </tr>\n",
              "    <tr>\n",
              "      <th>3</th>\n",
              "      <td>93617</td>\n",
              "      <td>51</td>\n",
              "      <td>507</td>\n",
              "    </tr>\n",
              "    <tr>\n",
              "      <th>4</th>\n",
              "      <td>113441</td>\n",
              "      <td>54</td>\n",
              "      <td>509</td>\n",
              "    </tr>\n",
              "  </tbody>\n",
              "</table>\n",
              "</div>"
            ],
            "text/plain": [
              "   income  age  days_since_purchase\n",
              "0   56432   31                  492\n",
              "1  137580   38                  551\n",
              "2   68285   59                  304\n",
              "3   93617   51                  507\n",
              "4  113441   54                  509"
            ]
          },
          "metadata": {
            "tags": []
          },
          "execution_count": 7
        }
      ]
    },
    {
      "cell_type": "markdown",
      "metadata": {
        "id": "Fltfb8F8TlHH"
      },
      "source": [
        "Standardize the three columns and save the names of the standardizes columns in a list"
      ]
    },
    {
      "cell_type": "code",
      "metadata": {
        "id": "YH2_cGthUTbp"
      },
      "source": [
        "df['z_income'] = (df['income'] - df['income'].mean())/df['income'].std()"
      ],
      "execution_count": 9,
      "outputs": []
    },
    {
      "cell_type": "code",
      "metadata": {
        "id": "hZHeczLbUdBm"
      },
      "source": [
        "df['z_age'] = (df['age'] - df['age'].mean())/df['age'].std()"
      ],
      "execution_count": 12,
      "outputs": []
    },
    {
      "cell_type": "code",
      "metadata": {
        "id": "pZV0tCIqUf4S"
      },
      "source": [
        "df['z_days_since_purchase'] = (df['days_since_purchase'] - df['days_since_purchase'].mean())/df['days_since_purchase'].std()"
      ],
      "execution_count": 13,
      "outputs": []
    },
    {
      "cell_type": "markdown",
      "metadata": {
        "id": "yjpWRzpvUx2o"
      },
      "source": [
        "Other option: use a for loop that standardizes them all instead of one at a time\n",
        "\n",
        "\n",
        "```\n",
        "cols = df.columns\n",
        "zcols = []\n",
        "for col in cols:\n",
        "    df['z_' + col] = (df[col] - df[col].mean())/df[col].std()\n",
        "    zcols.append('z_' + col)\n",
        "```\n",
        "\n"
      ]
    },
    {
      "cell_type": "code",
      "metadata": {
        "colab": {
          "base_uri": "https://localhost:8080/",
          "height": 204
        },
        "id": "HJcT0XnaUlP-",
        "outputId": "0f0902cd-01db-4795-de59-21192cb5dc60"
      },
      "source": [
        "df.head()"
      ],
      "execution_count": 14,
      "outputs": [
        {
          "output_type": "execute_result",
          "data": {
            "text/html": [
              "<div>\n",
              "<style scoped>\n",
              "    .dataframe tbody tr th:only-of-type {\n",
              "        vertical-align: middle;\n",
              "    }\n",
              "\n",
              "    .dataframe tbody tr th {\n",
              "        vertical-align: top;\n",
              "    }\n",
              "\n",
              "    .dataframe thead th {\n",
              "        text-align: right;\n",
              "    }\n",
              "</style>\n",
              "<table border=\"1\" class=\"dataframe\">\n",
              "  <thead>\n",
              "    <tr style=\"text-align: right;\">\n",
              "      <th></th>\n",
              "      <th>income</th>\n",
              "      <th>age</th>\n",
              "      <th>days_since_purchase</th>\n",
              "      <th>z_income</th>\n",
              "      <th>z_days_since_purchase</th>\n",
              "      <th>z_age</th>\n",
              "    </tr>\n",
              "  </thead>\n",
              "  <tbody>\n",
              "    <tr>\n",
              "      <th>0</th>\n",
              "      <td>56432</td>\n",
              "      <td>31</td>\n",
              "      <td>492</td>\n",
              "      <td>-0.606833</td>\n",
              "      <td>0.818321</td>\n",
              "      <td>-0.748848</td>\n",
              "    </tr>\n",
              "    <tr>\n",
              "      <th>1</th>\n",
              "      <td>137580</td>\n",
              "      <td>38</td>\n",
              "      <td>551</td>\n",
              "      <td>1.505879</td>\n",
              "      <td>1.349109</td>\n",
              "      <td>-0.135469</td>\n",
              "    </tr>\n",
              "    <tr>\n",
              "      <th>2</th>\n",
              "      <td>68285</td>\n",
              "      <td>59</td>\n",
              "      <td>304</td>\n",
              "      <td>-0.298237</td>\n",
              "      <td>-0.873001</td>\n",
              "      <td>1.704668</td>\n",
              "    </tr>\n",
              "    <tr>\n",
              "      <th>3</th>\n",
              "      <td>93617</td>\n",
              "      <td>51</td>\n",
              "      <td>507</td>\n",
              "      <td>0.361289</td>\n",
              "      <td>0.953267</td>\n",
              "      <td>1.003663</td>\n",
              "    </tr>\n",
              "    <tr>\n",
              "      <th>4</th>\n",
              "      <td>113441</td>\n",
              "      <td>54</td>\n",
              "      <td>509</td>\n",
              "      <td>0.877413</td>\n",
              "      <td>0.971260</td>\n",
              "      <td>1.266540</td>\n",
              "    </tr>\n",
              "  </tbody>\n",
              "</table>\n",
              "</div>"
            ],
            "text/plain": [
              "   income  age  days_since_purchase  z_income  z_days_since_purchase     z_age\n",
              "0   56432   31                  492 -0.606833               0.818321 -0.748848\n",
              "1  137580   38                  551  1.505879               1.349109 -0.135469\n",
              "2   68285   59                  304 -0.298237              -0.873001  1.704668\n",
              "3   93617   51                  507  0.361289               0.953267  1.003663\n",
              "4  113441   54                  509  0.877413               0.971260  1.266540"
            ]
          },
          "metadata": {
            "tags": []
          },
          "execution_count": 14
        }
      ]
    },
    {
      "cell_type": "markdown",
      "metadata": {
        "id": "t0cUZdUhVMHS"
      },
      "source": [
        "Perform k-means clustering"
      ]
    },
    {
      "cell_type": "code",
      "metadata": {
        "colab": {
          "base_uri": "https://localhost:8080/"
        },
        "id": "C-3s8o8PVN3-",
        "outputId": "d22aae2f-8ce8-428e-d86a-4bdcbada4e69"
      },
      "source": [
        "model = cluster.KMeans(n_clusters=4, random_state=10)\n",
        "model.fit(df[['z_income', 'z_age', 'z_days_since_purchase']])"
      ],
      "execution_count": 18,
      "outputs": [
        {
          "output_type": "execute_result",
          "data": {
            "text/plain": [
              "KMeans(algorithm='auto', copy_x=True, init='k-means++', max_iter=300,\n",
              "       n_clusters=4, n_init=10, n_jobs=None, precompute_distances='auto',\n",
              "       random_state=10, tol=0.0001, verbose=0)"
            ]
          },
          "metadata": {
            "tags": []
          },
          "execution_count": 18
        }
      ]
    },
    {
      "cell_type": "code",
      "metadata": {
        "colab": {
          "base_uri": "https://localhost:8080/",
          "height": 204
        },
        "id": "fTcMGp7FVzXA",
        "outputId": "b4b1466c-0db0-48c9-d6ff-ecfefd44a0e0"
      },
      "source": [
        "df['cluster'] = model.labels_\n",
        "df.head()"
      ],
      "execution_count": 19,
      "outputs": [
        {
          "output_type": "execute_result",
          "data": {
            "text/html": [
              "<div>\n",
              "<style scoped>\n",
              "    .dataframe tbody tr th:only-of-type {\n",
              "        vertical-align: middle;\n",
              "    }\n",
              "\n",
              "    .dataframe tbody tr th {\n",
              "        vertical-align: top;\n",
              "    }\n",
              "\n",
              "    .dataframe thead th {\n",
              "        text-align: right;\n",
              "    }\n",
              "</style>\n",
              "<table border=\"1\" class=\"dataframe\">\n",
              "  <thead>\n",
              "    <tr style=\"text-align: right;\">\n",
              "      <th></th>\n",
              "      <th>income</th>\n",
              "      <th>age</th>\n",
              "      <th>days_since_purchase</th>\n",
              "      <th>z_income</th>\n",
              "      <th>z_days_since_purchase</th>\n",
              "      <th>z_age</th>\n",
              "      <th>cluster</th>\n",
              "    </tr>\n",
              "  </thead>\n",
              "  <tbody>\n",
              "    <tr>\n",
              "      <th>0</th>\n",
              "      <td>56432</td>\n",
              "      <td>31</td>\n",
              "      <td>492</td>\n",
              "      <td>-0.606833</td>\n",
              "      <td>0.818321</td>\n",
              "      <td>-0.748848</td>\n",
              "      <td>3</td>\n",
              "    </tr>\n",
              "    <tr>\n",
              "      <th>1</th>\n",
              "      <td>137580</td>\n",
              "      <td>38</td>\n",
              "      <td>551</td>\n",
              "      <td>1.505879</td>\n",
              "      <td>1.349109</td>\n",
              "      <td>-0.135469</td>\n",
              "      <td>2</td>\n",
              "    </tr>\n",
              "    <tr>\n",
              "      <th>2</th>\n",
              "      <td>68285</td>\n",
              "      <td>59</td>\n",
              "      <td>304</td>\n",
              "      <td>-0.298237</td>\n",
              "      <td>-0.873001</td>\n",
              "      <td>1.704668</td>\n",
              "      <td>1</td>\n",
              "    </tr>\n",
              "    <tr>\n",
              "      <th>3</th>\n",
              "      <td>93617</td>\n",
              "      <td>51</td>\n",
              "      <td>507</td>\n",
              "      <td>0.361289</td>\n",
              "      <td>0.953267</td>\n",
              "      <td>1.003663</td>\n",
              "      <td>2</td>\n",
              "    </tr>\n",
              "    <tr>\n",
              "      <th>4</th>\n",
              "      <td>113441</td>\n",
              "      <td>54</td>\n",
              "      <td>509</td>\n",
              "      <td>0.877413</td>\n",
              "      <td>0.971260</td>\n",
              "      <td>1.266540</td>\n",
              "      <td>2</td>\n",
              "    </tr>\n",
              "  </tbody>\n",
              "</table>\n",
              "</div>"
            ],
            "text/plain": [
              "   income  age  days_since_purchase  ...  z_days_since_purchase     z_age  cluster\n",
              "0   56432   31                  492  ...               0.818321 -0.748848        3\n",
              "1  137580   38                  551  ...               1.349109 -0.135469        2\n",
              "2   68285   59                  304  ...              -0.873001  1.704668        1\n",
              "3   93617   51                  507  ...               0.953267  1.003663        2\n",
              "4  113441   54                  509  ...               0.971260  1.266540        2\n",
              "\n",
              "[5 rows x 7 columns]"
            ]
          },
          "metadata": {
            "tags": []
          },
          "execution_count": 19
        }
      ]
    },
    {
      "cell_type": "markdown",
      "metadata": {
        "id": "mYvyE1fpWGqJ"
      },
      "source": [
        "Perform PCA "
      ]
    },
    {
      "cell_type": "code",
      "metadata": {
        "id": "-3PnFNw8WJXK"
      },
      "source": [
        "#define a PCA object with n_components set to 2\n",
        "pca = decomposition.PCA(n_components=2)\n",
        "\n",
        "#use this PCA oject to transform the standardized data and store the transformed dimensions in pc1 and pc2\n",
        "df['pc1'], df['pc2'] = zip(*pca.fit_transform(df[['z_income', 'z_age', 'z_days_since_purchase']]))"
      ],
      "execution_count": 20,
      "outputs": []
    },
    {
      "cell_type": "code",
      "metadata": {
        "colab": {
          "base_uri": "https://localhost:8080/",
          "height": 265
        },
        "id": "zjLORXaSX3M0",
        "outputId": "c6651ef3-36ad-4ed8-82a8-ae1fcb566d2f"
      },
      "source": [
        "#plot the clusters in the reduced deimnsionality space \n",
        "colors = ['r', 'b', 'k', 'g'] \n",
        "markers = ['^', 'o', 'd', 's']\n",
        "\n",
        "for c in df['cluster'].unique():\n",
        "  d = df[df['cluster'] == c]\n",
        "  plt.scatter(d['pc1'], d['pc2'], marker=markers[c], color=colors[c])"
      ],
      "execution_count": 22,
      "outputs": [
        {
          "output_type": "display_data",
          "data": {
            "image/png": "[encoded data removed]",
            "text/plain": [
              "<Figure size 432x288 with 1 Axes>"
            ]
          },
          "metadata": {
            "tags": [],
            "needs_background": "light"
          }
        }
      ]
    },
    {
      "cell_type": "code",
      "metadata": {
        "colab": {
          "base_uri": "https://localhost:8080/"
        },
        "id": "EbIa0kKNYTPp",
        "outputId": "a5f7666b-0d99-4c7a-cf9e-2ee94f4cbff9"
      },
      "source": [
        "#look at the means of the variables of each cluster to see what the cluster is capturing\n",
        "for cluster in df['cluster'].unique():\n",
        "    print(\"Cluster: \" + str(cluster))\n",
        "    for col in ['income', 'age', 'days_since_purchase']:\n",
        "        print(col + \": {:.2f}\".format(df.loc[df['cluster'] == cluster, col].mean()))"
      ],
      "execution_count": 25,
      "outputs": [
        {
          "output_type": "stream",
          "text": [
            "Cluster: 3\n",
            "income: 46153.20\n",
            "age: 29.34\n",
            "days_since_purchase: 498.19\n",
            "Cluster: 2\n",
            "income: 113118.22\n",
            "age: 49.77\n",
            "days_since_purchase: 502.58\n",
            "Cluster: 1\n",
            "income: 45002.10\n",
            "age: 49.49\n",
            "days_since_purchase: 299.66\n",
            "Cluster: 0\n",
            "income: 114704.12\n",
            "age: 29.34\n",
            "days_since_purchase: 302.92\n"
          ],
          "name": "stdout"
        }
      ]
    },
    {
      "cell_type": "markdown",
      "metadata": {
        "id": "I8cGo0qUY3a6"
      },
      "source": [
        "Export to Excel"
      ]
    },
    {
      "cell_type": "code",
      "metadata": {
        "id": "lx3tzKs1Y1eI"
      },
      "source": [
        "df.to_csv('/gdrive/My Drive/Data Projects/Marketing Analytics/Lesson 3/clustering13.csv')"
      ],
      "execution_count": 28,
      "outputs": []
    },
    {
      "cell_type": "markdown",
      "metadata": {
        "id": "rsr86sy2aIvq"
      },
      "source": [
        "Excel Pivot Table"
      ]
    },
    {
      "cell_type": "markdown",
      "metadata": {
        "id": "0RMvq5K4aTyL"
      },
      "source": [
        "![Screen Shot 2020-12-15 at 2.57.25 PM.png](data:image/png;base64,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)"
      ]
    },
    {
      "cell_type": "markdown",
      "metadata": {
        "id": "Fz_94QqGaXI2"
      },
      "source": [
        "Cluster characteristics: \n",
        "\n",
        "\n",
        "*   Younger, lower income, higher days since purchase - Cluster 3\n",
        "*   Younger, higher income, lower days since purchase - Cluster 0\n",
        "*   Older, lower income, lower days since purchase - Cluster 1\n",
        "*   Older, higher income, higher days since purchase - Cluster 2\n",
        "\n"
      ]
    }
  ]
}