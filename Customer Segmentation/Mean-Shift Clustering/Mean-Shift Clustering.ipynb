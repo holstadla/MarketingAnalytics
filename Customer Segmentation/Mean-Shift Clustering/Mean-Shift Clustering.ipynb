{
  "nbformat": 4,
  "nbformat_minor": 0,
  "metadata": {
    "colab": {
      "name": "Exercise 16.ipynb",
      "provenance": []
    },
    "kernelspec": {
      "name": "python3",
      "display_name": "Python 3"
    }
  },
  "cells": [
    {
      "cell_type": "code",
      "metadata": {
        "colab": {
          "base_uri": "https://localhost:8080/"
        },
        "id": "zMs6zUycAQZm",
        "outputId": "d632f56a-0a0e-4c02-eb3c-fb257d5e5381"
      },
      "source": [
        "import pandas as pd \n",
        "import matplotlib.pyplot as plt\n",
        "%matplotlib inline\n",
        "from sklearn import cluster\n",
        "\n",
        "from google.colab import drive\n",
        "drive.mount('/gdrive')\n",
        "#Change current working directory to gdrive\n",
        "%cd /gdrive"
      ],
      "execution_count": 1,
      "outputs": [
        {
          "output_type": "stream",
          "text": [
            "Mounted at /gdrive\n",
            "/gdrive\n"
          ],
          "name": "stdout"
        }
      ]
    },
    {
      "cell_type": "code",
      "metadata": {
        "colab": {
          "base_uri": "https://localhost:8080/",
          "height": 204
        },
        "id": "Buy6KgrOAlW4",
        "outputId": "a3998aad-8c7a-4e73-991c-2af879c749b1"
      },
      "source": [
        "#Read files\n",
        "datafile = r'/gdrive/My Drive/Data Projects/Marketing Analytics/Lesson 4/ageinc.csv'\n",
        "df = pd.read_csv(datafile) #creates a dataframe\n",
        "df.head()"
      ],
      "execution_count": 2,
      "outputs": [
        {
          "output_type": "execute_result",
          "data": {
            "text/html": [
              "<div>\n",
              "<style scoped>\n",
              "    .dataframe tbody tr th:only-of-type {\n",
              "        vertical-align: middle;\n",
              "    }\n",
              "\n",
              "    .dataframe tbody tr th {\n",
              "        vertical-align: top;\n",
              "    }\n",
              "\n",
              "    .dataframe thead th {\n",
              "        text-align: right;\n",
              "    }\n",
              "</style>\n",
              "<table border=\"1\" class=\"dataframe\">\n",
              "  <thead>\n",
              "    <tr style=\"text-align: right;\">\n",
              "      <th></th>\n",
              "      <th>income</th>\n",
              "      <th>age</th>\n",
              "    </tr>\n",
              "  </thead>\n",
              "  <tbody>\n",
              "    <tr>\n",
              "      <th>0</th>\n",
              "      <td>101743</td>\n",
              "      <td>58</td>\n",
              "    </tr>\n",
              "    <tr>\n",
              "      <th>1</th>\n",
              "      <td>49597</td>\n",
              "      <td>27</td>\n",
              "    </tr>\n",
              "    <tr>\n",
              "      <th>2</th>\n",
              "      <td>36517</td>\n",
              "      <td>52</td>\n",
              "    </tr>\n",
              "    <tr>\n",
              "      <th>3</th>\n",
              "      <td>33223</td>\n",
              "      <td>49</td>\n",
              "    </tr>\n",
              "    <tr>\n",
              "      <th>4</th>\n",
              "      <td>72994</td>\n",
              "      <td>53</td>\n",
              "    </tr>\n",
              "  </tbody>\n",
              "</table>\n",
              "</div>"
            ],
            "text/plain": [
              "   income  age\n",
              "0  101743   58\n",
              "1   49597   27\n",
              "2   36517   52\n",
              "3   33223   49\n",
              "4   72994   53"
            ]
          },
          "metadata": {
            "tags": []
          },
          "execution_count": 2
        }
      ]
    },
    {
      "cell_type": "markdown",
      "metadata": {
        "id": "Zj759zjWAqNf"
      },
      "source": [
        "**Performing Mean-Shift Clustering to Cluster Data**"
      ]
    },
    {
      "cell_type": "markdown",
      "metadata": {
        "id": "CnFFTa1EAzHO"
      },
      "source": [
        "Standardize the data"
      ]
    },
    {
      "cell_type": "code",
      "metadata": {
        "id": "3y8s3jmMAuDl"
      },
      "source": [
        "cols = df.columns\n",
        "zcols = []\n",
        "for col in cols:\n",
        "    df['z_' + col] = (df[col] - df[col].mean())/df[col].std()\n",
        "    zcols.append('z_' + col)"
      ],
      "execution_count": 3,
      "outputs": []
    },
    {
      "cell_type": "code",
      "metadata": {
        "colab": {
          "base_uri": "https://localhost:8080/",
          "height": 204
        },
        "id": "ZfD6N8rQA0x1",
        "outputId": "fff02d3d-1a62-4c86-9ddd-7ebc8bf0b0cb"
      },
      "source": [
        "df.head()"
      ],
      "execution_count": 4,
      "outputs": [
        {
          "output_type": "execute_result",
          "data": {
            "text/html": [
              "<div>\n",
              "<style scoped>\n",
              "    .dataframe tbody tr th:only-of-type {\n",
              "        vertical-align: middle;\n",
              "    }\n",
              "\n",
              "    .dataframe tbody tr th {\n",
              "        vertical-align: top;\n",
              "    }\n",
              "\n",
              "    .dataframe thead th {\n",
              "        text-align: right;\n",
              "    }\n",
              "</style>\n",
              "<table border=\"1\" class=\"dataframe\">\n",
              "  <thead>\n",
              "    <tr style=\"text-align: right;\">\n",
              "      <th></th>\n",
              "      <th>income</th>\n",
              "      <th>age</th>\n",
              "      <th>z_income</th>\n",
              "      <th>z_age</th>\n",
              "    </tr>\n",
              "  </thead>\n",
              "  <tbody>\n",
              "    <tr>\n",
              "      <th>0</th>\n",
              "      <td>101743</td>\n",
              "      <td>58</td>\n",
              "      <td>0.550812</td>\n",
              "      <td>1.693570</td>\n",
              "    </tr>\n",
              "    <tr>\n",
              "      <th>1</th>\n",
              "      <td>49597</td>\n",
              "      <td>27</td>\n",
              "      <td>-0.777331</td>\n",
              "      <td>-1.130565</td>\n",
              "    </tr>\n",
              "    <tr>\n",
              "      <th>2</th>\n",
              "      <td>36517</td>\n",
              "      <td>52</td>\n",
              "      <td>-1.110474</td>\n",
              "      <td>1.146963</td>\n",
              "    </tr>\n",
              "    <tr>\n",
              "      <th>3</th>\n",
              "      <td>33223</td>\n",
              "      <td>49</td>\n",
              "      <td>-1.194372</td>\n",
              "      <td>0.873660</td>\n",
              "    </tr>\n",
              "    <tr>\n",
              "      <th>4</th>\n",
              "      <td>72994</td>\n",
              "      <td>53</td>\n",
              "      <td>-0.181416</td>\n",
              "      <td>1.238064</td>\n",
              "    </tr>\n",
              "  </tbody>\n",
              "</table>\n",
              "</div>"
            ],
            "text/plain": [
              "   income  age  z_income     z_age\n",
              "0  101743   58  0.550812  1.693570\n",
              "1   49597   27 -0.777331 -1.130565\n",
              "2   36517   52 -1.110474  1.146963\n",
              "3   33223   49 -1.194372  0.873660\n",
              "4   72994   53 -0.181416  1.238064"
            ]
          },
          "metadata": {
            "tags": []
          },
          "execution_count": 4
        }
      ]
    },
    {
      "cell_type": "markdown",
      "metadata": {
        "id": "3OoPiJPAA6RT"
      },
      "source": [
        "Perform mean-shift clustering\n",
        "\n"
      ]
    },
    {
      "cell_type": "code",
      "metadata": {
        "id": "OgARV7KJBBmK"
      },
      "source": [
        "#save the standardized columns to X\n",
        "X = df[zcols]"
      ],
      "execution_count": 5,
      "outputs": []
    },
    {
      "cell_type": "code",
      "metadata": {
        "id": "b6l0SPQdBHbU"
      },
      "source": [
        "#use estimate_bandwidth function to estimate the best bandwidth to use, with a quantile parameter set to 0.1\n",
        "bandwidth = cluster.estimate_bandwidth(X, quantile = 0.1)"
      ],
      "execution_count": 6,
      "outputs": []
    },
    {
      "cell_type": "code",
      "metadata": {
        "colab": {
          "base_uri": "https://localhost:8080/"
        },
        "id": "CHMpQE_1BVtl",
        "outputId": "30e0871c-6463-41bc-fad4-5fd710569e22"
      },
      "source": [
        "#train the model with the estimate bandwidth, adn set bin_Seeding to true (speeds up algorithm)\n",
        "ms = cluster.MeanShift(bandwidth=bandwidth, bin_seeding=True)\n",
        "\n",
        "#fit the model to the data\n",
        "ms.fit(X)"
      ],
      "execution_count": 7,
      "outputs": [
        {
          "output_type": "execute_result",
          "data": {
            "text/plain": [
              "MeanShift(bandwidth=0.636820406937075, bin_seeding=True, cluster_all=True,\n",
              "          max_iter=300, min_bin_freq=1, n_jobs=None, seeds=None)"
            ]
          },
          "metadata": {
            "tags": []
          },
          "execution_count": 7
        }
      ]
    },
    {
      "cell_type": "code",
      "metadata": {
        "colab": {
          "base_uri": "https://localhost:8080/"
        },
        "id": "SeI6LVKRBpkg",
        "outputId": "6ffc8756-871e-4409-8e55-15c39a786bf2"
      },
      "source": [
        "#print the resulting number of clusters by finding the number of unique labels that mean-shift clustering has created\n",
        "df['cluster'] = ms.labels_\n",
        "print(\"Number of clusters: %d\" % len(df['cluster'].unique()))"
      ],
      "execution_count": 8,
      "outputs": [
        {
          "output_type": "stream",
          "text": [
            "Number of clusters: 4\n"
          ],
          "name": "stdout"
        }
      ]
    },
    {
      "cell_type": "markdown",
      "metadata": {
        "id": "2YGOPJsjBmlj"
      },
      "source": [
        "Plot clusterig in Matplotlib"
      ]
    },
    {
      "cell_type": "code",
      "metadata": {
        "colab": {
          "base_uri": "https://localhost:8080/",
          "height": 265
        },
        "id": "fevfsrnMBpA0",
        "outputId": "d32cfcd5-281c-4c7d-d05b-9980fa0bd2f9"
      },
      "source": [
        "#define colors and shapes used for each cluster for visualization\n",
        "\n",
        "colors = ['r', 'b', 'k', 'g']\n",
        "markers = ['^', 'o', 'd', 's']\n",
        "\n",
        "for c in df['cluster'].unique():\n",
        "        d = df[df['cluster'] == c]\n",
        "        plt.scatter(d['income'], d['age'], marker=markers[c], color=colors[c])    \n",
        "\n",
        "plt.show()"
      ],
      "execution_count": 10,
      "outputs": [
        {
          "output_type": "display_data",
          "data": {
            "image/png": "[encoded data removed]",
            "text/plain": [
              "<Figure size 432x288 with 1 Axes>"
            ]
          },
          "metadata": {
            "tags": [],
            "needs_background": "light"
          }
        }
      ]
    },
    {
      "cell_type": "markdown",
      "metadata": {
        "id": "03Y0-7uCD98Q"
      },
      "source": [
        "**Examine Cluster Characteristics**"
      ]
    },
    {
      "cell_type": "code",
      "metadata": {
        "colab": {
          "base_uri": "https://localhost:8080/",
          "height": 204
        },
        "id": "xHnUceljD1p0",
        "outputId": "760614ab-b75a-417b-cecb-57ec59ce0b57"
      },
      "source": [
        "df['cluster'] = ms.labels_\n",
        "df.head()"
      ],
      "execution_count": 12,
      "outputs": [
        {
          "output_type": "execute_result",
          "data": {
            "text/html": [
              "<div>\n",
              "<style scoped>\n",
              "    .dataframe tbody tr th:only-of-type {\n",
              "        vertical-align: middle;\n",
              "    }\n",
              "\n",
              "    .dataframe tbody tr th {\n",
              "        vertical-align: top;\n",
              "    }\n",
              "\n",
              "    .dataframe thead th {\n",
              "        text-align: right;\n",
              "    }\n",
              "</style>\n",
              "<table border=\"1\" class=\"dataframe\">\n",
              "  <thead>\n",
              "    <tr style=\"text-align: right;\">\n",
              "      <th></th>\n",
              "      <th>income</th>\n",
              "      <th>age</th>\n",
              "      <th>z_income</th>\n",
              "      <th>z_age</th>\n",
              "      <th>cluster</th>\n",
              "    </tr>\n",
              "  </thead>\n",
              "  <tbody>\n",
              "    <tr>\n",
              "      <th>0</th>\n",
              "      <td>101743</td>\n",
              "      <td>58</td>\n",
              "      <td>0.550812</td>\n",
              "      <td>1.693570</td>\n",
              "      <td>2</td>\n",
              "    </tr>\n",
              "    <tr>\n",
              "      <th>1</th>\n",
              "      <td>49597</td>\n",
              "      <td>27</td>\n",
              "      <td>-0.777331</td>\n",
              "      <td>-1.130565</td>\n",
              "      <td>3</td>\n",
              "    </tr>\n",
              "    <tr>\n",
              "      <th>2</th>\n",
              "      <td>36517</td>\n",
              "      <td>52</td>\n",
              "      <td>-1.110474</td>\n",
              "      <td>1.146963</td>\n",
              "      <td>0</td>\n",
              "    </tr>\n",
              "    <tr>\n",
              "      <th>3</th>\n",
              "      <td>33223</td>\n",
              "      <td>49</td>\n",
              "      <td>-1.194372</td>\n",
              "      <td>0.873660</td>\n",
              "      <td>0</td>\n",
              "    </tr>\n",
              "    <tr>\n",
              "      <th>4</th>\n",
              "      <td>72994</td>\n",
              "      <td>53</td>\n",
              "      <td>-0.181416</td>\n",
              "      <td>1.238064</td>\n",
              "      <td>0</td>\n",
              "    </tr>\n",
              "  </tbody>\n",
              "</table>\n",
              "</div>"
            ],
            "text/plain": [
              "   income  age  z_income     z_age  cluster\n",
              "0  101743   58  0.550812  1.693570        2\n",
              "1   49597   27 -0.777331 -1.130565        3\n",
              "2   36517   52 -1.110474  1.146963        0\n",
              "3   33223   49 -1.194372  0.873660        0\n",
              "4   72994   53 -0.181416  1.238064        0"
            ]
          },
          "metadata": {
            "tags": []
          },
          "execution_count": 12
        }
      ]
    },
    {
      "cell_type": "code",
      "metadata": {
        "id": "yumvlEDdEFKG"
      },
      "source": [
        "df.to_csv('/gdrive/My Drive/Data Projects/Marketing Analytics/Lesson 4/exercise16clusters.csv')"
      ],
      "execution_count": 15,
      "outputs": []
    },
    {
      "cell_type": "markdown",
      "metadata": {
        "id": "AF_JqAhVGebv"
      },
      "source": [
        "![Screen Shot 2020-12-19 at 3.23.35 PM.png](data:image/png;base64,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)"
      ]
    },
    {
      "cell_type": "markdown",
      "metadata": {
        "id": "MJO-0avEGivZ"
      },
      "source": [
        "Used a PivotTable in Excel to easy visualize the cluster characteristics. \n",
        "\n",
        "The clusters are as follows: \n",
        "\n",
        "\n",
        "*   Cluster 0 - Lower avg income, older avg age\n",
        "*   Cluster 2 - Higher avg income, older avg age\n",
        "* Cluster 3 - Lower avg income, younger avg age\n",
        "* Cluster 1 - Higher avg income, younger avg age\n",
        "\n"
      ]
    }
  ]
}