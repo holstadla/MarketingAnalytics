{
  "nbformat": 4,
  "nbformat_minor": 0,
  "metadata": {
    "colab": {
      "name": "Exercise 20: Creating Features for Transaction Data.ipynb",
      "provenance": []
    },
    "kernelspec": {
      "name": "python3",
      "display_name": "Python 3"
    }
  },
  "cells": [
    {
      "cell_type": "code",
      "metadata": {
        "colab": {
          "base_uri": "https://localhost:8080/"
        },
        "id": "ytCXBmsUe68D",
        "outputId": "64b29e3d-c66f-4d3d-f357-6afb4a9e2a49"
      },
      "source": [
        "import pandas as pd \n",
        "\n",
        "from google.colab import drive\n",
        "drive.mount('/gdrive')\n",
        "#Change current working directory to gdrive\n",
        "%cd /gdrive"
      ],
      "execution_count": 1,
      "outputs": [
        {
          "output_type": "stream",
          "text": [
            "Mounted at /gdrive\n",
            "/gdrive\n"
          ],
          "name": "stdout"
        }
      ]
    },
    {
      "cell_type": "code",
      "metadata": {
        "colab": {
          "base_uri": "https://localhost:8080/",
          "height": 204
        },
        "id": "rDJS8cEQfMa1",
        "outputId": "ce48f18b-1ca9-4448-adcf-ec78eb9a3930"
      },
      "source": [
        "#Read files\n",
        "datafile = r'/gdrive/My Drive/Data Projects/Marketing Analytics/Lesson 5/retail_transactions.csv'\n",
        "df = pd.read_csv(datafile) #creates a dataframe\n",
        "df.head()"
      ],
      "execution_count": 2,
      "outputs": [
        {
          "output_type": "execute_result",
          "data": {
            "text/html": [
              "<div>\n",
              "<style scoped>\n",
              "    .dataframe tbody tr th:only-of-type {\n",
              "        vertical-align: middle;\n",
              "    }\n",
              "\n",
              "    .dataframe tbody tr th {\n",
              "        vertical-align: top;\n",
              "    }\n",
              "\n",
              "    .dataframe thead th {\n",
              "        text-align: right;\n",
              "    }\n",
              "</style>\n",
              "<table border=\"1\" class=\"dataframe\">\n",
              "  <thead>\n",
              "    <tr style=\"text-align: right;\">\n",
              "      <th></th>\n",
              "      <th>InvoiceNo</th>\n",
              "      <th>StockCode</th>\n",
              "      <th>Description</th>\n",
              "      <th>Quantity</th>\n",
              "      <th>InvoiceDate</th>\n",
              "      <th>UnitPrice</th>\n",
              "      <th>CustomerID</th>\n",
              "      <th>Country</th>\n",
              "    </tr>\n",
              "  </thead>\n",
              "  <tbody>\n",
              "    <tr>\n",
              "      <th>0</th>\n",
              "      <td>546729</td>\n",
              "      <td>22775</td>\n",
              "      <td>PURPLE DRAWERKNOB ACRYLIC EDWARDIAN</td>\n",
              "      <td>12</td>\n",
              "      <td>2011-03-16 11:36:00</td>\n",
              "      <td>1.25</td>\n",
              "      <td>18231.0</td>\n",
              "      <td>United Kingdom</td>\n",
              "    </tr>\n",
              "    <tr>\n",
              "      <th>1</th>\n",
              "      <td>559898</td>\n",
              "      <td>21868</td>\n",
              "      <td>POTTING SHED TEA MUG</td>\n",
              "      <td>6</td>\n",
              "      <td>2011-07-13 12:18:00</td>\n",
              "      <td>1.25</td>\n",
              "      <td>16225.0</td>\n",
              "      <td>United Kingdom</td>\n",
              "    </tr>\n",
              "    <tr>\n",
              "      <th>2</th>\n",
              "      <td>548648</td>\n",
              "      <td>71459</td>\n",
              "      <td>HANGING JAM JAR T-LIGHT HOLDER</td>\n",
              "      <td>24</td>\n",
              "      <td>2011-04-01 13:20:00</td>\n",
              "      <td>0.85</td>\n",
              "      <td>12949.0</td>\n",
              "      <td>United Kingdom</td>\n",
              "    </tr>\n",
              "    <tr>\n",
              "      <th>3</th>\n",
              "      <td>540543</td>\n",
              "      <td>22173</td>\n",
              "      <td>METAL 4 HOOK HANGER FRENCH CHATEAU</td>\n",
              "      <td>4</td>\n",
              "      <td>2011-01-09 15:23:00</td>\n",
              "      <td>2.95</td>\n",
              "      <td>14395.0</td>\n",
              "      <td>United Kingdom</td>\n",
              "    </tr>\n",
              "    <tr>\n",
              "      <th>4</th>\n",
              "      <td>561390</td>\n",
              "      <td>20726</td>\n",
              "      <td>LUNCH BAG WOODLAND</td>\n",
              "      <td>10</td>\n",
              "      <td>2011-07-27 09:52:00</td>\n",
              "      <td>1.65</td>\n",
              "      <td>17068.0</td>\n",
              "      <td>United Kingdom</td>\n",
              "    </tr>\n",
              "  </tbody>\n",
              "</table>\n",
              "</div>"
            ],
            "text/plain": [
              "   InvoiceNo StockCode  ... CustomerID         Country\n",
              "0     546729     22775  ...    18231.0  United Kingdom\n",
              "1     559898     21868  ...    16225.0  United Kingdom\n",
              "2     548648     71459  ...    12949.0  United Kingdom\n",
              "3     540543     22173  ...    14395.0  United Kingdom\n",
              "4     561390     20726  ...    17068.0  United Kingdom\n",
              "\n",
              "[5 rows x 8 columns]"
            ]
          },
          "metadata": {
            "tags": []
          },
          "execution_count": 2
        }
      ]
    },
    {
      "cell_type": "code",
      "metadata": {
        "colab": {
          "base_uri": "https://localhost:8080/"
        },
        "id": "khg_KROVgMyY",
        "outputId": "fe3d4962-9561-4f6b-8447-a8e0ac328647"
      },
      "source": [
        "df['InvoiceDate'].head()"
      ],
      "execution_count": 3,
      "outputs": [
        {
          "output_type": "execute_result",
          "data": {
            "text/plain": [
              "0    2011-03-16 11:36:00\n",
              "1    2011-07-13 12:18:00\n",
              "2    2011-04-01 13:20:00\n",
              "3    2011-01-09 15:23:00\n",
              "4    2011-07-27 09:52:00\n",
              "Name: InvoiceDate, dtype: object"
            ]
          },
          "metadata": {
            "tags": []
          },
          "execution_count": 3
        }
      ]
    },
    {
      "cell_type": "markdown",
      "metadata": {
        "id": "9EKRvFGdf0Hn"
      },
      "source": [
        "Convert InvoiceDate column to date format"
      ]
    },
    {
      "cell_type": "code",
      "metadata": {
        "id": "Ud5TEaJjf5HG"
      },
      "source": [
        "df['InvoiceDate'] = pd.to_datetime(df['InvoiceDate'])"
      ],
      "execution_count": 4,
      "outputs": []
    },
    {
      "cell_type": "code",
      "metadata": {
        "colab": {
          "base_uri": "https://localhost:8080/"
        },
        "id": "kLI8ZJ6Zf_8Q",
        "outputId": "d0fa1bc1-c55c-4ba5-86fa-3f1dd9c20a79"
      },
      "source": [
        "df['InvoiceDate'].head() #can see that dtype changed from object to datetime64"
      ],
      "execution_count": 5,
      "outputs": [
        {
          "output_type": "execute_result",
          "data": {
            "text/plain": [
              "0   2011-03-16 11:36:00\n",
              "1   2011-07-13 12:18:00\n",
              "2   2011-04-01 13:20:00\n",
              "3   2011-01-09 15:23:00\n",
              "4   2011-07-27 09:52:00\n",
              "Name: InvoiceDate, dtype: datetime64[ns]"
            ]
          },
          "metadata": {
            "tags": []
          },
          "execution_count": 5
        }
      ]
    },
    {
      "cell_type": "markdown",
      "metadata": {
        "id": "1Zr2hRm6gLw6"
      },
      "source": [
        "Calculate the revenue for each row"
      ]
    },
    {
      "cell_type": "code",
      "metadata": {
        "id": "GJ17ywEbgc0O"
      },
      "source": [
        "df['revenue'] = df['UnitPrice'] * df['Quantity']"
      ],
      "execution_count": 6,
      "outputs": []
    },
    {
      "cell_type": "code",
      "metadata": {
        "colab": {
          "base_uri": "https://localhost:8080/",
          "height": 204
        },
        "id": "FgX96F0FggKv",
        "outputId": "3e3b9481-9dd1-4087-801c-dbaef257e661"
      },
      "source": [
        " df.head()"
      ],
      "execution_count": 7,
      "outputs": [
        {
          "output_type": "execute_result",
          "data": {
            "text/html": [
              "<div>\n",
              "<style scoped>\n",
              "    .dataframe tbody tr th:only-of-type {\n",
              "        vertical-align: middle;\n",
              "    }\n",
              "\n",
              "    .dataframe tbody tr th {\n",
              "        vertical-align: top;\n",
              "    }\n",
              "\n",
              "    .dataframe thead th {\n",
              "        text-align: right;\n",
              "    }\n",
              "</style>\n",
              "<table border=\"1\" class=\"dataframe\">\n",
              "  <thead>\n",
              "    <tr style=\"text-align: right;\">\n",
              "      <th></th>\n",
              "      <th>InvoiceNo</th>\n",
              "      <th>StockCode</th>\n",
              "      <th>Description</th>\n",
              "      <th>Quantity</th>\n",
              "      <th>InvoiceDate</th>\n",
              "      <th>UnitPrice</th>\n",
              "      <th>CustomerID</th>\n",
              "      <th>Country</th>\n",
              "      <th>revenue</th>\n",
              "    </tr>\n",
              "  </thead>\n",
              "  <tbody>\n",
              "    <tr>\n",
              "      <th>0</th>\n",
              "      <td>546729</td>\n",
              "      <td>22775</td>\n",
              "      <td>PURPLE DRAWERKNOB ACRYLIC EDWARDIAN</td>\n",
              "      <td>12</td>\n",
              "      <td>2011-03-16 11:36:00</td>\n",
              "      <td>1.25</td>\n",
              "      <td>18231.0</td>\n",
              "      <td>United Kingdom</td>\n",
              "      <td>15.0</td>\n",
              "    </tr>\n",
              "    <tr>\n",
              "      <th>1</th>\n",
              "      <td>559898</td>\n",
              "      <td>21868</td>\n",
              "      <td>POTTING SHED TEA MUG</td>\n",
              "      <td>6</td>\n",
              "      <td>2011-07-13 12:18:00</td>\n",
              "      <td>1.25</td>\n",
              "      <td>16225.0</td>\n",
              "      <td>United Kingdom</td>\n",
              "      <td>7.5</td>\n",
              "    </tr>\n",
              "    <tr>\n",
              "      <th>2</th>\n",
              "      <td>548648</td>\n",
              "      <td>71459</td>\n",
              "      <td>HANGING JAM JAR T-LIGHT HOLDER</td>\n",
              "      <td>24</td>\n",
              "      <td>2011-04-01 13:20:00</td>\n",
              "      <td>0.85</td>\n",
              "      <td>12949.0</td>\n",
              "      <td>United Kingdom</td>\n",
              "      <td>20.4</td>\n",
              "    </tr>\n",
              "    <tr>\n",
              "      <th>3</th>\n",
              "      <td>540543</td>\n",
              "      <td>22173</td>\n",
              "      <td>METAL 4 HOOK HANGER FRENCH CHATEAU</td>\n",
              "      <td>4</td>\n",
              "      <td>2011-01-09 15:23:00</td>\n",
              "      <td>2.95</td>\n",
              "      <td>14395.0</td>\n",
              "      <td>United Kingdom</td>\n",
              "      <td>11.8</td>\n",
              "    </tr>\n",
              "    <tr>\n",
              "      <th>4</th>\n",
              "      <td>561390</td>\n",
              "      <td>20726</td>\n",
              "      <td>LUNCH BAG WOODLAND</td>\n",
              "      <td>10</td>\n",
              "      <td>2011-07-27 09:52:00</td>\n",
              "      <td>1.65</td>\n",
              "      <td>17068.0</td>\n",
              "      <td>United Kingdom</td>\n",
              "      <td>16.5</td>\n",
              "    </tr>\n",
              "  </tbody>\n",
              "</table>\n",
              "</div>"
            ],
            "text/plain": [
              "   InvoiceNo StockCode  ...         Country  revenue\n",
              "0     546729     22775  ...  United Kingdom     15.0\n",
              "1     559898     21868  ...  United Kingdom      7.5\n",
              "2     548648     71459  ...  United Kingdom     20.4\n",
              "3     540543     22173  ...  United Kingdom     11.8\n",
              "4     561390     20726  ...  United Kingdom     16.5\n",
              "\n",
              "[5 rows x 9 columns]"
            ]
          },
          "metadata": {
            "tags": []
          },
          "execution_count": 7
        }
      ]
    },
    {
      "cell_type": "markdown",
      "metadata": {
        "id": "huhfeqU6iKpq"
      },
      "source": [
        "Combine by InvoiceNo"
      ]
    },
    {
      "cell_type": "code",
      "metadata": {
        "id": "_0yCk1QAiQpD"
      },
      "source": [
        "operations = {'revenue': 'sum', \n",
        "              'InvoiceDate': 'first', \n",
        "              'CustomerID': 'first'}"
      ],
      "execution_count": 8,
      "outputs": []
    },
    {
      "cell_type": "code",
      "metadata": {
        "id": "4uUvEGKPiheT"
      },
      "source": [
        "df = df.groupby('InvoiceNo').agg(operations)"
      ],
      "execution_count": 9,
      "outputs": []
    },
    {
      "cell_type": "code",
      "metadata": {
        "colab": {
          "base_uri": "https://localhost:8080/",
          "height": 235
        },
        "id": "PjtuTqv7ioNL",
        "outputId": "2cb5f339-c598-41cf-ab17-7d7c2edf5df5"
      },
      "source": [
        "df.head()"
      ],
      "execution_count": 10,
      "outputs": [
        {
          "output_type": "execute_result",
          "data": {
            "text/html": [
              "<div>\n",
              "<style scoped>\n",
              "    .dataframe tbody tr th:only-of-type {\n",
              "        vertical-align: middle;\n",
              "    }\n",
              "\n",
              "    .dataframe tbody tr th {\n",
              "        vertical-align: top;\n",
              "    }\n",
              "\n",
              "    .dataframe thead th {\n",
              "        text-align: right;\n",
              "    }\n",
              "</style>\n",
              "<table border=\"1\" class=\"dataframe\">\n",
              "  <thead>\n",
              "    <tr style=\"text-align: right;\">\n",
              "      <th></th>\n",
              "      <th>revenue</th>\n",
              "      <th>InvoiceDate</th>\n",
              "      <th>CustomerID</th>\n",
              "    </tr>\n",
              "    <tr>\n",
              "      <th>InvoiceNo</th>\n",
              "      <th></th>\n",
              "      <th></th>\n",
              "      <th></th>\n",
              "    </tr>\n",
              "  </thead>\n",
              "  <tbody>\n",
              "    <tr>\n",
              "      <th>536365</th>\n",
              "      <td>139.12</td>\n",
              "      <td>2010-12-01 08:26:00</td>\n",
              "      <td>17850.0</td>\n",
              "    </tr>\n",
              "    <tr>\n",
              "      <th>536366</th>\n",
              "      <td>22.20</td>\n",
              "      <td>2010-12-01 08:28:00</td>\n",
              "      <td>17850.0</td>\n",
              "    </tr>\n",
              "    <tr>\n",
              "      <th>536367</th>\n",
              "      <td>278.73</td>\n",
              "      <td>2010-12-01 08:34:00</td>\n",
              "      <td>13047.0</td>\n",
              "    </tr>\n",
              "    <tr>\n",
              "      <th>536368</th>\n",
              "      <td>70.05</td>\n",
              "      <td>2010-12-01 08:34:00</td>\n",
              "      <td>13047.0</td>\n",
              "    </tr>\n",
              "    <tr>\n",
              "      <th>536369</th>\n",
              "      <td>17.85</td>\n",
              "      <td>2010-12-01 08:35:00</td>\n",
              "      <td>13047.0</td>\n",
              "    </tr>\n",
              "  </tbody>\n",
              "</table>\n",
              "</div>"
            ],
            "text/plain": [
              "           revenue         InvoiceDate  CustomerID\n",
              "InvoiceNo                                         \n",
              "536365      139.12 2010-12-01 08:26:00     17850.0\n",
              "536366       22.20 2010-12-01 08:28:00     17850.0\n",
              "536367      278.73 2010-12-01 08:34:00     13047.0\n",
              "536368       70.05 2010-12-01 08:34:00     13047.0\n",
              "536369       17.85 2010-12-01 08:35:00     13047.0"
            ]
          },
          "metadata": {
            "tags": []
          },
          "execution_count": 10
        }
      ]
    },
    {
      "cell_type": "markdown",
      "metadata": {
        "id": "11rFPPdaixY6"
      },
      "source": [
        "Create a new column for the year"
      ]
    },
    {
      "cell_type": "code",
      "metadata": {
        "id": "GFtckjJAiy8w"
      },
      "source": [
        "df['year'] = df['InvoiceDate'].apply(lambda x: x.year)"
      ],
      "execution_count": 11,
      "outputs": []
    },
    {
      "cell_type": "code",
      "metadata": {
        "colab": {
          "base_uri": "https://localhost:8080/",
          "height": 235
        },
        "id": "uMUyUO4Wi6Rk",
        "outputId": "0cf4ad12-fced-4461-9279-c4e8a10bd364"
      },
      "source": [
        "df.head()"
      ],
      "execution_count": 12,
      "outputs": [
        {
          "output_type": "execute_result",
          "data": {
            "text/html": [
              "<div>\n",
              "<style scoped>\n",
              "    .dataframe tbody tr th:only-of-type {\n",
              "        vertical-align: middle;\n",
              "    }\n",
              "\n",
              "    .dataframe tbody tr th {\n",
              "        vertical-align: top;\n",
              "    }\n",
              "\n",
              "    .dataframe thead th {\n",
              "        text-align: right;\n",
              "    }\n",
              "</style>\n",
              "<table border=\"1\" class=\"dataframe\">\n",
              "  <thead>\n",
              "    <tr style=\"text-align: right;\">\n",
              "      <th></th>\n",
              "      <th>revenue</th>\n",
              "      <th>InvoiceDate</th>\n",
              "      <th>CustomerID</th>\n",
              "      <th>year</th>\n",
              "    </tr>\n",
              "    <tr>\n",
              "      <th>InvoiceNo</th>\n",
              "      <th></th>\n",
              "      <th></th>\n",
              "      <th></th>\n",
              "      <th></th>\n",
              "    </tr>\n",
              "  </thead>\n",
              "  <tbody>\n",
              "    <tr>\n",
              "      <th>536365</th>\n",
              "      <td>139.12</td>\n",
              "      <td>2010-12-01 08:26:00</td>\n",
              "      <td>17850.0</td>\n",
              "      <td>2010</td>\n",
              "    </tr>\n",
              "    <tr>\n",
              "      <th>536366</th>\n",
              "      <td>22.20</td>\n",
              "      <td>2010-12-01 08:28:00</td>\n",
              "      <td>17850.0</td>\n",
              "      <td>2010</td>\n",
              "    </tr>\n",
              "    <tr>\n",
              "      <th>536367</th>\n",
              "      <td>278.73</td>\n",
              "      <td>2010-12-01 08:34:00</td>\n",
              "      <td>13047.0</td>\n",
              "      <td>2010</td>\n",
              "    </tr>\n",
              "    <tr>\n",
              "      <th>536368</th>\n",
              "      <td>70.05</td>\n",
              "      <td>2010-12-01 08:34:00</td>\n",
              "      <td>13047.0</td>\n",
              "      <td>2010</td>\n",
              "    </tr>\n",
              "    <tr>\n",
              "      <th>536369</th>\n",
              "      <td>17.85</td>\n",
              "      <td>2010-12-01 08:35:00</td>\n",
              "      <td>13047.0</td>\n",
              "      <td>2010</td>\n",
              "    </tr>\n",
              "  </tbody>\n",
              "</table>\n",
              "</div>"
            ],
            "text/plain": [
              "           revenue         InvoiceDate  CustomerID  year\n",
              "InvoiceNo                                               \n",
              "536365      139.12 2010-12-01 08:26:00     17850.0  2010\n",
              "536366       22.20 2010-12-01 08:28:00     17850.0  2010\n",
              "536367      278.73 2010-12-01 08:34:00     13047.0  2010\n",
              "536368       70.05 2010-12-01 08:34:00     13047.0  2010\n",
              "536369       17.85 2010-12-01 08:35:00     13047.0  2010"
            ]
          },
          "metadata": {
            "tags": []
          },
          "execution_count": 12
        }
      ]
    },
    {
      "cell_type": "markdown",
      "metadata": {
        "id": "Wb8DL1KZjANx"
      },
      "source": [
        "Calculate for each transaction how many days difference there is between the last dat of 2010 and the invoice date"
      ]
    },
    {
      "cell_type": "code",
      "metadata": {
        "colab": {
          "base_uri": "https://localhost:8080/"
        },
        "id": "cgAwn2l7jGMX",
        "outputId": "a28fa8ca-2aa0-43bc-de39-50bf2cae96db"
      },
      "source": [
        "df['days_since'] = (pd.datetime(year=2010, month=12, day=31) - df['InvoiceDate']).apply(lambda x: x.days)"
      ],
      "execution_count": 13,
      "outputs": [
        {
          "output_type": "stream",
          "text": [
            "/usr/local/lib/python3.6/dist-packages/ipykernel_launcher.py:1: FutureWarning: The pandas.datetime class is deprecated and will be removed from pandas in a future version. Import from datetime instead.\n",
            "  \"\"\"Entry point for launching an IPython kernel.\n"
          ],
          "name": "stderr"
        }
      ]
    },
    {
      "cell_type": "code",
      "metadata": {
        "colab": {
          "base_uri": "https://localhost:8080/",
          "height": 235
        },
        "id": "rMRa0LltjWKa",
        "outputId": "018551fb-9960-4028-ce79-e65b23cc6f7f"
      },
      "source": [
        "df.head()"
      ],
      "execution_count": 14,
      "outputs": [
        {
          "output_type": "execute_result",
          "data": {
            "text/html": [
              "<div>\n",
              "<style scoped>\n",
              "    .dataframe tbody tr th:only-of-type {\n",
              "        vertical-align: middle;\n",
              "    }\n",
              "\n",
              "    .dataframe tbody tr th {\n",
              "        vertical-align: top;\n",
              "    }\n",
              "\n",
              "    .dataframe thead th {\n",
              "        text-align: right;\n",
              "    }\n",
              "</style>\n",
              "<table border=\"1\" class=\"dataframe\">\n",
              "  <thead>\n",
              "    <tr style=\"text-align: right;\">\n",
              "      <th></th>\n",
              "      <th>revenue</th>\n",
              "      <th>InvoiceDate</th>\n",
              "      <th>CustomerID</th>\n",
              "      <th>year</th>\n",
              "      <th>days_since</th>\n",
              "    </tr>\n",
              "    <tr>\n",
              "      <th>InvoiceNo</th>\n",
              "      <th></th>\n",
              "      <th></th>\n",
              "      <th></th>\n",
              "      <th></th>\n",
              "      <th></th>\n",
              "    </tr>\n",
              "  </thead>\n",
              "  <tbody>\n",
              "    <tr>\n",
              "      <th>536365</th>\n",
              "      <td>139.12</td>\n",
              "      <td>2010-12-01 08:26:00</td>\n",
              "      <td>17850.0</td>\n",
              "      <td>2010</td>\n",
              "      <td>29</td>\n",
              "    </tr>\n",
              "    <tr>\n",
              "      <th>536366</th>\n",
              "      <td>22.20</td>\n",
              "      <td>2010-12-01 08:28:00</td>\n",
              "      <td>17850.0</td>\n",
              "      <td>2010</td>\n",
              "      <td>29</td>\n",
              "    </tr>\n",
              "    <tr>\n",
              "      <th>536367</th>\n",
              "      <td>278.73</td>\n",
              "      <td>2010-12-01 08:34:00</td>\n",
              "      <td>13047.0</td>\n",
              "      <td>2010</td>\n",
              "      <td>29</td>\n",
              "    </tr>\n",
              "    <tr>\n",
              "      <th>536368</th>\n",
              "      <td>70.05</td>\n",
              "      <td>2010-12-01 08:34:00</td>\n",
              "      <td>13047.0</td>\n",
              "      <td>2010</td>\n",
              "      <td>29</td>\n",
              "    </tr>\n",
              "    <tr>\n",
              "      <th>536369</th>\n",
              "      <td>17.85</td>\n",
              "      <td>2010-12-01 08:35:00</td>\n",
              "      <td>13047.0</td>\n",
              "      <td>2010</td>\n",
              "      <td>29</td>\n",
              "    </tr>\n",
              "  </tbody>\n",
              "</table>\n",
              "</div>"
            ],
            "text/plain": [
              "           revenue         InvoiceDate  CustomerID  year  days_since\n",
              "InvoiceNo                                                           \n",
              "536365      139.12 2010-12-01 08:26:00     17850.0  2010          29\n",
              "536366       22.20 2010-12-01 08:28:00     17850.0  2010          29\n",
              "536367      278.73 2010-12-01 08:34:00     13047.0  2010          29\n",
              "536368       70.05 2010-12-01 08:34:00     13047.0  2010          29\n",
              "536369       17.85 2010-12-01 08:35:00     13047.0  2010          29"
            ]
          },
          "metadata": {
            "tags": []
          },
          "execution_count": 14
        }
      ]
    },
    {
      "cell_type": "markdown",
      "metadata": {
        "id": "m8YGsNfSj5_I"
      },
      "source": [
        "Group by customer"
      ]
    },
    {
      "cell_type": "code",
      "metadata": {
        "id": "nE_E4pnDj8y8"
      },
      "source": [
        "# define a set of aggreation functions for each of our variables \n",
        "operations = {'revenue': 'sum', \n",
        "              'days_since': ['max', 'min', 'nunique'],}"
      ],
      "execution_count": 15,
      "outputs": []
    },
    {
      "cell_type": "code",
      "metadata": {
        "id": "mlI_W5qykXfZ"
      },
      "source": [
        "#apply using groupby, only apply these functions to 2010 data since theyre the predictors\n",
        "X = df[df['year'] == 2010].groupby('CustomerID').agg(operations)"
      ],
      "execution_count": 16,
      "outputs": []
    },
    {
      "cell_type": "code",
      "metadata": {
        "colab": {
          "base_uri": "https://localhost:8080/",
          "height": 266
        },
        "id": "NQdPy9KpktL4",
        "outputId": "c085e6ef-a755-4eaa-ec12-f861e73ff6d9"
      },
      "source": [
        "X.head()"
      ],
      "execution_count": 17,
      "outputs": [
        {
          "output_type": "execute_result",
          "data": {
            "text/html": [
              "<div>\n",
              "<style scoped>\n",
              "    .dataframe tbody tr th:only-of-type {\n",
              "        vertical-align: middle;\n",
              "    }\n",
              "\n",
              "    .dataframe tbody tr th {\n",
              "        vertical-align: top;\n",
              "    }\n",
              "\n",
              "    .dataframe thead tr th {\n",
              "        text-align: left;\n",
              "    }\n",
              "\n",
              "    .dataframe thead tr:last-of-type th {\n",
              "        text-align: right;\n",
              "    }\n",
              "</style>\n",
              "<table border=\"1\" class=\"dataframe\">\n",
              "  <thead>\n",
              "    <tr>\n",
              "      <th></th>\n",
              "      <th>revenue</th>\n",
              "      <th colspan=\"3\" halign=\"left\">days_since</th>\n",
              "    </tr>\n",
              "    <tr>\n",
              "      <th></th>\n",
              "      <th>sum</th>\n",
              "      <th>max</th>\n",
              "      <th>min</th>\n",
              "      <th>nunique</th>\n",
              "    </tr>\n",
              "    <tr>\n",
              "      <th>CustomerID</th>\n",
              "      <th></th>\n",
              "      <th></th>\n",
              "      <th></th>\n",
              "      <th></th>\n",
              "    </tr>\n",
              "  </thead>\n",
              "  <tbody>\n",
              "    <tr>\n",
              "      <th>12347.0</th>\n",
              "      <td>711.79</td>\n",
              "      <td>23</td>\n",
              "      <td>23</td>\n",
              "      <td>1</td>\n",
              "    </tr>\n",
              "    <tr>\n",
              "      <th>12348.0</th>\n",
              "      <td>892.80</td>\n",
              "      <td>14</td>\n",
              "      <td>14</td>\n",
              "      <td>1</td>\n",
              "    </tr>\n",
              "    <tr>\n",
              "      <th>12370.0</th>\n",
              "      <td>1868.02</td>\n",
              "      <td>16</td>\n",
              "      <td>13</td>\n",
              "      <td>2</td>\n",
              "    </tr>\n",
              "    <tr>\n",
              "      <th>12377.0</th>\n",
              "      <td>1001.52</td>\n",
              "      <td>10</td>\n",
              "      <td>10</td>\n",
              "      <td>1</td>\n",
              "    </tr>\n",
              "    <tr>\n",
              "      <th>12383.0</th>\n",
              "      <td>600.72</td>\n",
              "      <td>8</td>\n",
              "      <td>8</td>\n",
              "      <td>1</td>\n",
              "    </tr>\n",
              "  </tbody>\n",
              "</table>\n",
              "</div>"
            ],
            "text/plain": [
              "            revenue days_since            \n",
              "                sum        max min nunique\n",
              "CustomerID                                \n",
              "12347.0      711.79         23  23       1\n",
              "12348.0      892.80         14  14       1\n",
              "12370.0     1868.02         16  13       2\n",
              "12377.0     1001.52         10  10       1\n",
              "12383.0      600.72          8   8       1"
            ]
          },
          "metadata": {
            "tags": []
          },
          "execution_count": 17
        }
      ]
    },
    {
      "cell_type": "markdown",
      "metadata": {
        "id": "16Sak0I_k59b"
      },
      "source": [
        "Reset the names of the columns to make them easier to reference later"
      ]
    },
    {
      "cell_type": "code",
      "metadata": {
        "colab": {
          "base_uri": "https://localhost:8080/",
          "height": 235
        },
        "id": "r-TF9djzk9qK",
        "outputId": "dd1501e2-ae67-48ab-90ed-275c31cb0bb4"
      },
      "source": [
        "X.columns = [' '.join(col).strip() for col in X.columns.values]\n",
        "\n",
        "X.head()"
      ],
      "execution_count": 18,
      "outputs": [
        {
          "output_type": "execute_result",
          "data": {
            "text/html": [
              "<div>\n",
              "<style scoped>\n",
              "    .dataframe tbody tr th:only-of-type {\n",
              "        vertical-align: middle;\n",
              "    }\n",
              "\n",
              "    .dataframe tbody tr th {\n",
              "        vertical-align: top;\n",
              "    }\n",
              "\n",
              "    .dataframe thead th {\n",
              "        text-align: right;\n",
              "    }\n",
              "</style>\n",
              "<table border=\"1\" class=\"dataframe\">\n",
              "  <thead>\n",
              "    <tr style=\"text-align: right;\">\n",
              "      <th></th>\n",
              "      <th>revenue sum</th>\n",
              "      <th>days_since max</th>\n",
              "      <th>days_since min</th>\n",
              "      <th>days_since nunique</th>\n",
              "    </tr>\n",
              "    <tr>\n",
              "      <th>CustomerID</th>\n",
              "      <th></th>\n",
              "      <th></th>\n",
              "      <th></th>\n",
              "      <th></th>\n",
              "    </tr>\n",
              "  </thead>\n",
              "  <tbody>\n",
              "    <tr>\n",
              "      <th>12347.0</th>\n",
              "      <td>711.79</td>\n",
              "      <td>23</td>\n",
              "      <td>23</td>\n",
              "      <td>1</td>\n",
              "    </tr>\n",
              "    <tr>\n",
              "      <th>12348.0</th>\n",
              "      <td>892.80</td>\n",
              "      <td>14</td>\n",
              "      <td>14</td>\n",
              "      <td>1</td>\n",
              "    </tr>\n",
              "    <tr>\n",
              "      <th>12370.0</th>\n",
              "      <td>1868.02</td>\n",
              "      <td>16</td>\n",
              "      <td>13</td>\n",
              "      <td>2</td>\n",
              "    </tr>\n",
              "    <tr>\n",
              "      <th>12377.0</th>\n",
              "      <td>1001.52</td>\n",
              "      <td>10</td>\n",
              "      <td>10</td>\n",
              "      <td>1</td>\n",
              "    </tr>\n",
              "    <tr>\n",
              "      <th>12383.0</th>\n",
              "      <td>600.72</td>\n",
              "      <td>8</td>\n",
              "      <td>8</td>\n",
              "      <td>1</td>\n",
              "    </tr>\n",
              "  </tbody>\n",
              "</table>\n",
              "</div>"
            ],
            "text/plain": [
              "            revenue sum  days_since max  days_since min  days_since nunique\n",
              "CustomerID                                                                 \n",
              "12347.0          711.79              23              23                   1\n",
              "12348.0          892.80              14              14                   1\n",
              "12370.0         1868.02              16              13                   2\n",
              "12377.0         1001.52              10              10                   1\n",
              "12383.0          600.72               8               8                   1"
            ]
          },
          "metadata": {
            "tags": []
          },
          "execution_count": 18
        }
      ]
    },
    {
      "cell_type": "markdown",
      "metadata": {
        "id": "5C1K1m9-lLv-"
      },
      "source": [
        "Calculate average spend per order"
      ]
    },
    {
      "cell_type": "code",
      "metadata": {
        "id": "v4Z_507klNXs"
      },
      "source": [
        "X['avg_order_cost'] = X['revenue sum']/X['days_since nunique']"
      ],
      "execution_count": 19,
      "outputs": []
    },
    {
      "cell_type": "code",
      "metadata": {
        "colab": {
          "base_uri": "https://localhost:8080/"
        },
        "id": "xJpCDx56lrDr",
        "outputId": "87d0c056-04a2-42fb-d690-a6ce71aaa03b"
      },
      "source": [
        "X['avg_order_cost']"
      ],
      "execution_count": 20,
      "outputs": [
        {
          "output_type": "execute_result",
          "data": {
            "text/plain": [
              "CustomerID\n",
              "12347.0     711.79\n",
              "12348.0     892.80\n",
              "12370.0     934.01\n",
              "12377.0    1001.52\n",
              "12383.0     600.72\n",
              "            ...   \n",
              "18239.0     438.10\n",
              "18245.0     365.73\n",
              "18259.0     376.30\n",
              "18260.0     230.70\n",
              "18269.0     168.60\n",
              "Name: avg_order_cost, Length: 885, dtype: float64"
            ]
          },
          "metadata": {
            "tags": []
          },
          "execution_count": 20
        }
      ]
    },
    {
      "cell_type": "code",
      "metadata": {
        "colab": {
          "base_uri": "https://localhost:8080/"
        },
        "id": "qFHyeZgelavI",
        "outputId": "409f3335-6b58-4b2c-d650-e8f11b8c5c17"
      },
      "source": [
        "print(X['avg_order_cost'].mean())"
      ],
      "execution_count": 21,
      "outputs": [
        {
          "output_type": "stream",
          "text": [
            "426.3558814366428\n"
          ],
          "name": "stdout"
        }
      ]
    },
    {
      "cell_type": "markdown",
      "metadata": {
        "id": "LaUehML7luSQ"
      },
      "source": [
        "Now that the predictors are complete, need the outcome that will be predicting, which is the sum of revenue for 2011."
      ]
    },
    {
      "cell_type": "code",
      "metadata": {
        "id": "8cMvVbYKl4vo"
      },
      "source": [
        "#groupby and store values as y\n",
        "y = df[df['year']== 2011].groupby('CustomerID')['revenue'].sum()"
      ],
      "execution_count": 22,
      "outputs": []
    },
    {
      "cell_type": "markdown",
      "metadata": {
        "id": "u_U5b4s6mNUO"
      },
      "source": [
        "Put predictors and outcomes into a single df called wrangled_df and rename the columns to more intuitive names "
      ]
    },
    {
      "cell_type": "code",
      "metadata": {
        "id": "iLDtW5pAmUCt"
      },
      "source": [
        "wrangled_df = pd.concat([X, y], axis=1)"
      ],
      "execution_count": 23,
      "outputs": []
    },
    {
      "cell_type": "code",
      "metadata": {
        "colab": {
          "base_uri": "https://localhost:8080/",
          "height": 235
        },
        "id": "JzCdthLEmePS",
        "outputId": "d6944e4b-e532-4a3a-817c-913c37b39057"
      },
      "source": [
        "wrangled_df.head()"
      ],
      "execution_count": 24,
      "outputs": [
        {
          "output_type": "execute_result",
          "data": {
            "text/html": [
              "<div>\n",
              "<style scoped>\n",
              "    .dataframe tbody tr th:only-of-type {\n",
              "        vertical-align: middle;\n",
              "    }\n",
              "\n",
              "    .dataframe tbody tr th {\n",
              "        vertical-align: top;\n",
              "    }\n",
              "\n",
              "    .dataframe thead th {\n",
              "        text-align: right;\n",
              "    }\n",
              "</style>\n",
              "<table border=\"1\" class=\"dataframe\">\n",
              "  <thead>\n",
              "    <tr style=\"text-align: right;\">\n",
              "      <th></th>\n",
              "      <th>revenue sum</th>\n",
              "      <th>days_since max</th>\n",
              "      <th>days_since min</th>\n",
              "      <th>days_since nunique</th>\n",
              "      <th>avg_order_cost</th>\n",
              "      <th>revenue</th>\n",
              "    </tr>\n",
              "    <tr>\n",
              "      <th>CustomerID</th>\n",
              "      <th></th>\n",
              "      <th></th>\n",
              "      <th></th>\n",
              "      <th></th>\n",
              "      <th></th>\n",
              "      <th></th>\n",
              "    </tr>\n",
              "  </thead>\n",
              "  <tbody>\n",
              "    <tr>\n",
              "      <th>12346.0</th>\n",
              "      <td>NaN</td>\n",
              "      <td>NaN</td>\n",
              "      <td>NaN</td>\n",
              "      <td>NaN</td>\n",
              "      <td>NaN</td>\n",
              "      <td>77183.60</td>\n",
              "    </tr>\n",
              "    <tr>\n",
              "      <th>12347.0</th>\n",
              "      <td>711.79</td>\n",
              "      <td>23.0</td>\n",
              "      <td>23.0</td>\n",
              "      <td>1.0</td>\n",
              "      <td>711.79</td>\n",
              "      <td>3598.21</td>\n",
              "    </tr>\n",
              "    <tr>\n",
              "      <th>12348.0</th>\n",
              "      <td>892.80</td>\n",
              "      <td>14.0</td>\n",
              "      <td>14.0</td>\n",
              "      <td>1.0</td>\n",
              "      <td>892.80</td>\n",
              "      <td>904.44</td>\n",
              "    </tr>\n",
              "    <tr>\n",
              "      <th>12349.0</th>\n",
              "      <td>NaN</td>\n",
              "      <td>NaN</td>\n",
              "      <td>NaN</td>\n",
              "      <td>NaN</td>\n",
              "      <td>NaN</td>\n",
              "      <td>1757.55</td>\n",
              "    </tr>\n",
              "    <tr>\n",
              "      <th>12350.0</th>\n",
              "      <td>NaN</td>\n",
              "      <td>NaN</td>\n",
              "      <td>NaN</td>\n",
              "      <td>NaN</td>\n",
              "      <td>NaN</td>\n",
              "      <td>334.40</td>\n",
              "    </tr>\n",
              "  </tbody>\n",
              "</table>\n",
              "</div>"
            ],
            "text/plain": [
              "            revenue sum  days_since max  ...  avg_order_cost   revenue\n",
              "CustomerID                               ...                          \n",
              "12346.0             NaN             NaN  ...             NaN  77183.60\n",
              "12347.0          711.79            23.0  ...          711.79   3598.21\n",
              "12348.0          892.80            14.0  ...          892.80    904.44\n",
              "12349.0             NaN             NaN  ...             NaN   1757.55\n",
              "12350.0             NaN             NaN  ...             NaN    334.40\n",
              "\n",
              "[5 rows x 6 columns]"
            ]
          },
          "metadata": {
            "tags": []
          },
          "execution_count": 24
        }
      ]
    },
    {
      "cell_type": "code",
      "metadata": {
        "id": "lMw9pBc6mZGr"
      },
      "source": [
        "#rename column titles with more intuitive names\n",
        "wrangled_df.columns = ['2010 revenue',\n",
        "                       'days_since_first_purchase',\n",
        "                       'days_since_last_purchase',\n",
        "                       'number_of_purchases',\n",
        "                       'avg_order_cost',\n",
        "                       '2011 revenue']"
      ],
      "execution_count": 25,
      "outputs": []
    },
    {
      "cell_type": "code",
      "metadata": {
        "colab": {
          "base_uri": "https://localhost:8080/",
          "height": 235
        },
        "id": "o3kFt5TJmsyz",
        "outputId": "1cd8ab37-0322-47ee-8347-553a189260f4"
      },
      "source": [
        "wrangled_df.head()"
      ],
      "execution_count": 26,
      "outputs": [
        {
          "output_type": "execute_result",
          "data": {
            "text/html": [
              "<div>\n",
              "<style scoped>\n",
              "    .dataframe tbody tr th:only-of-type {\n",
              "        vertical-align: middle;\n",
              "    }\n",
              "\n",
              "    .dataframe tbody tr th {\n",
              "        vertical-align: top;\n",
              "    }\n",
              "\n",
              "    .dataframe thead th {\n",
              "        text-align: right;\n",
              "    }\n",
              "</style>\n",
              "<table border=\"1\" class=\"dataframe\">\n",
              "  <thead>\n",
              "    <tr style=\"text-align: right;\">\n",
              "      <th></th>\n",
              "      <th>2010 revenue</th>\n",
              "      <th>days_since_first_purchase</th>\n",
              "      <th>days_since_last_purchase</th>\n",
              "      <th>number_of_purchases</th>\n",
              "      <th>avg_order_cost</th>\n",
              "      <th>2011 revenue</th>\n",
              "    </tr>\n",
              "    <tr>\n",
              "      <th>CustomerID</th>\n",
              "      <th></th>\n",
              "      <th></th>\n",
              "      <th></th>\n",
              "      <th></th>\n",
              "      <th></th>\n",
              "      <th></th>\n",
              "    </tr>\n",
              "  </thead>\n",
              "  <tbody>\n",
              "    <tr>\n",
              "      <th>12346.0</th>\n",
              "      <td>NaN</td>\n",
              "      <td>NaN</td>\n",
              "      <td>NaN</td>\n",
              "      <td>NaN</td>\n",
              "      <td>NaN</td>\n",
              "      <td>77183.60</td>\n",
              "    </tr>\n",
              "    <tr>\n",
              "      <th>12347.0</th>\n",
              "      <td>711.79</td>\n",
              "      <td>23.0</td>\n",
              "      <td>23.0</td>\n",
              "      <td>1.0</td>\n",
              "      <td>711.79</td>\n",
              "      <td>3598.21</td>\n",
              "    </tr>\n",
              "    <tr>\n",
              "      <th>12348.0</th>\n",
              "      <td>892.80</td>\n",
              "      <td>14.0</td>\n",
              "      <td>14.0</td>\n",
              "      <td>1.0</td>\n",
              "      <td>892.80</td>\n",
              "      <td>904.44</td>\n",
              "    </tr>\n",
              "    <tr>\n",
              "      <th>12349.0</th>\n",
              "      <td>NaN</td>\n",
              "      <td>NaN</td>\n",
              "      <td>NaN</td>\n",
              "      <td>NaN</td>\n",
              "      <td>NaN</td>\n",
              "      <td>1757.55</td>\n",
              "    </tr>\n",
              "    <tr>\n",
              "      <th>12350.0</th>\n",
              "      <td>NaN</td>\n",
              "      <td>NaN</td>\n",
              "      <td>NaN</td>\n",
              "      <td>NaN</td>\n",
              "      <td>NaN</td>\n",
              "      <td>334.40</td>\n",
              "    </tr>\n",
              "  </tbody>\n",
              "</table>\n",
              "</div>"
            ],
            "text/plain": [
              "            2010 revenue  ...  2011 revenue\n",
              "CustomerID                ...              \n",
              "12346.0              NaN  ...      77183.60\n",
              "12347.0           711.79  ...       3598.21\n",
              "12348.0           892.80  ...        904.44\n",
              "12349.0              NaN  ...       1757.55\n",
              "12350.0              NaN  ...        334.40\n",
              "\n",
              "[5 rows x 6 columns]"
            ]
          },
          "metadata": {
            "tags": []
          },
          "execution_count": 26
        }
      ]
    },
    {
      "cell_type": "code",
      "metadata": {
        "id": "QWlf2hoIm0am"
      },
      "source": [
        "#drop data of customers not active in both years\n",
        "wrangled_df = wrangled_df[~wrangled_df['2010 revenue'].isnull()]\n",
        "wrangled_df = wrangled_df[~wrangled_df['2011 revenue'].isnull()]"
      ],
      "execution_count": 27,
      "outputs": []
    },
    {
      "cell_type": "code",
      "metadata": {
        "colab": {
          "base_uri": "https://localhost:8080/",
          "height": 235
        },
        "id": "ttT2zPB2nERa",
        "outputId": "ddce42ae-2b88-4f6f-ec03-a47c6cd0a58c"
      },
      "source": [
        "wrangled_df.head()"
      ],
      "execution_count": 28,
      "outputs": [
        {
          "output_type": "execute_result",
          "data": {
            "text/html": [
              "<div>\n",
              "<style scoped>\n",
              "    .dataframe tbody tr th:only-of-type {\n",
              "        vertical-align: middle;\n",
              "    }\n",
              "\n",
              "    .dataframe tbody tr th {\n",
              "        vertical-align: top;\n",
              "    }\n",
              "\n",
              "    .dataframe thead th {\n",
              "        text-align: right;\n",
              "    }\n",
              "</style>\n",
              "<table border=\"1\" class=\"dataframe\">\n",
              "  <thead>\n",
              "    <tr style=\"text-align: right;\">\n",
              "      <th></th>\n",
              "      <th>2010 revenue</th>\n",
              "      <th>days_since_first_purchase</th>\n",
              "      <th>days_since_last_purchase</th>\n",
              "      <th>number_of_purchases</th>\n",
              "      <th>avg_order_cost</th>\n",
              "      <th>2011 revenue</th>\n",
              "    </tr>\n",
              "    <tr>\n",
              "      <th>CustomerID</th>\n",
              "      <th></th>\n",
              "      <th></th>\n",
              "      <th></th>\n",
              "      <th></th>\n",
              "      <th></th>\n",
              "      <th></th>\n",
              "    </tr>\n",
              "  </thead>\n",
              "  <tbody>\n",
              "    <tr>\n",
              "      <th>12347.0</th>\n",
              "      <td>711.79</td>\n",
              "      <td>23.0</td>\n",
              "      <td>23.0</td>\n",
              "      <td>1.0</td>\n",
              "      <td>711.79</td>\n",
              "      <td>3598.21</td>\n",
              "    </tr>\n",
              "    <tr>\n",
              "      <th>12348.0</th>\n",
              "      <td>892.80</td>\n",
              "      <td>14.0</td>\n",
              "      <td>14.0</td>\n",
              "      <td>1.0</td>\n",
              "      <td>892.80</td>\n",
              "      <td>904.44</td>\n",
              "    </tr>\n",
              "    <tr>\n",
              "      <th>12370.0</th>\n",
              "      <td>1868.02</td>\n",
              "      <td>16.0</td>\n",
              "      <td>13.0</td>\n",
              "      <td>2.0</td>\n",
              "      <td>934.01</td>\n",
              "      <td>1677.67</td>\n",
              "    </tr>\n",
              "    <tr>\n",
              "      <th>12377.0</th>\n",
              "      <td>1001.52</td>\n",
              "      <td>10.0</td>\n",
              "      <td>10.0</td>\n",
              "      <td>1.0</td>\n",
              "      <td>1001.52</td>\n",
              "      <td>626.60</td>\n",
              "    </tr>\n",
              "    <tr>\n",
              "      <th>12383.0</th>\n",
              "      <td>600.72</td>\n",
              "      <td>8.0</td>\n",
              "      <td>8.0</td>\n",
              "      <td>1.0</td>\n",
              "      <td>600.72</td>\n",
              "      <td>1249.84</td>\n",
              "    </tr>\n",
              "  </tbody>\n",
              "</table>\n",
              "</div>"
            ],
            "text/plain": [
              "            2010 revenue  ...  2011 revenue\n",
              "CustomerID                ...              \n",
              "12347.0           711.79  ...       3598.21\n",
              "12348.0           892.80  ...        904.44\n",
              "12370.0          1868.02  ...       1677.67\n",
              "12377.0          1001.52  ...        626.60\n",
              "12383.0           600.72  ...       1249.84\n",
              "\n",
              "[5 rows x 6 columns]"
            ]
          },
          "metadata": {
            "tags": []
          },
          "execution_count": 28
        }
      ]
    },
    {
      "cell_type": "code",
      "metadata": {
        "colab": {
          "base_uri": "https://localhost:8080/"
        },
        "id": "nPyYufCtncTP",
        "outputId": "52e9c234-d08c-4b64-f6c3-0cc31c7957f3"
      },
      "source": [
        "wrangled_df.shape"
      ],
      "execution_count": 29,
      "outputs": [
        {
          "output_type": "execute_result",
          "data": {
            "text/plain": [
              "(766, 6)"
            ]
          },
          "metadata": {
            "tags": []
          },
          "execution_count": 29
        }
      ]
    },
    {
      "cell_type": "markdown",
      "metadata": {
        "id": "heyOcBPonHSp"
      },
      "source": [
        "Get rid of outliers - any point that is more than 3 standard deviations above the median"
      ]
    },
    {
      "cell_type": "code",
      "metadata": {
        "id": "VrGtjGCsnIe9"
      },
      "source": [
        "wrangled_df = wrangled_df[wrangled_df['2011 revenue'] < ((wrangled_df['2011 revenue'].median()) + wrangled_df['2011 revenue'].std()*3)]\n",
        "wrangled_df = wrangled_df[wrangled_df['2010 revenue'] < ((wrangled_df['2010 revenue'].median()) + wrangled_df['2010 revenue'].std()*3)]"
      ],
      "execution_count": 30,
      "outputs": []
    },
    {
      "cell_type": "markdown",
      "metadata": {
        "id": "IKfjJJJWnkK5"
      },
      "source": [
        "Export to Excel"
      ]
    },
    {
      "cell_type": "code",
      "metadata": {
        "id": "k35UhJdVnlnv"
      },
      "source": [
        "wrangled_df.to_csv('/gdrive/My Drive/Data Projects/Marketing Analytics/Lesson 5/Ex20_WrangledData.csv')"
      ],
      "execution_count": 31,
      "outputs": []
    },
    {
      "cell_type": "markdown",
      "metadata": {
        "id": "aX58MR9hH0OJ"
      },
      "source": [
        "Visualize Data"
      ]
    },
    {
      "cell_type": "code",
      "metadata": {
        "id": "udN_4HXFH1bg"
      },
      "source": [
        "import seaborn as sns\n",
        "%matplotlib inline"
      ],
      "execution_count": 32,
      "outputs": []
    },
    {
      "cell_type": "code",
      "metadata": {
        "colab": {
          "base_uri": "https://localhost:8080/",
          "height": 1000
        },
        "id": "anlfaJSGH4_a",
        "outputId": "cc03abc1-80f5-41de-bd1d-51c82ecc3760"
      },
      "source": [
        "sns.pairplot(wrangled_df)"
      ],
      "execution_count": 33,
      "outputs": [
        {
          "output_type": "execute_result",
          "data": {
            "text/plain": [
              "<seaborn.axisgrid.PairGrid at 0x7f6ab0b9cfd0>"
            ]
          },
          "metadata": {
            "tags": []
          },
          "execution_count": 33
        },
        {
          "output_type": "display_data",
          "data": {
            "image/png": "[encoded data removed]",
            "text/plain": [
              "<Figure size 1080x1080 with 42 Axes>"
            ]
          },
          "metadata": {
            "tags": [],
            "needs_background": "light"
          }
        }
      ]
    },
    {
      "cell_type": "code",
      "metadata": {
        "colab": {
          "base_uri": "https://localhost:8080/",
          "height": 235
        },
        "id": "kUUZP1CSKWKl",
        "outputId": "f6532495-20e1-4ecc-a6c4-c8383b852872"
      },
      "source": [
        "wrangled_df.corr()"
      ],
      "execution_count": 34,
      "outputs": [
        {
          "output_type": "execute_result",
          "data": {
            "text/html": [
              "<div>\n",
              "<style scoped>\n",
              "    .dataframe tbody tr th:only-of-type {\n",
              "        vertical-align: middle;\n",
              "    }\n",
              "\n",
              "    .dataframe tbody tr th {\n",
              "        vertical-align: top;\n",
              "    }\n",
              "\n",
              "    .dataframe thead th {\n",
              "        text-align: right;\n",
              "    }\n",
              "</style>\n",
              "<table border=\"1\" class=\"dataframe\">\n",
              "  <thead>\n",
              "    <tr style=\"text-align: right;\">\n",
              "      <th></th>\n",
              "      <th>2010 revenue</th>\n",
              "      <th>days_since_first_purchase</th>\n",
              "      <th>days_since_last_purchase</th>\n",
              "      <th>number_of_purchases</th>\n",
              "      <th>avg_order_cost</th>\n",
              "      <th>2011 revenue</th>\n",
              "    </tr>\n",
              "  </thead>\n",
              "  <tbody>\n",
              "    <tr>\n",
              "      <th>2010 revenue</th>\n",
              "      <td>1.000000</td>\n",
              "      <td>0.109692</td>\n",
              "      <td>-0.254964</td>\n",
              "      <td>0.504438</td>\n",
              "      <td>0.779401</td>\n",
              "      <td>0.548234</td>\n",
              "    </tr>\n",
              "    <tr>\n",
              "      <th>days_since_first_purchase</th>\n",
              "      <td>0.109692</td>\n",
              "      <td>1.000000</td>\n",
              "      <td>0.641574</td>\n",
              "      <td>0.327502</td>\n",
              "      <td>-0.074321</td>\n",
              "      <td>0.061743</td>\n",
              "    </tr>\n",
              "    <tr>\n",
              "      <th>days_since_last_purchase</th>\n",
              "      <td>-0.254964</td>\n",
              "      <td>0.641574</td>\n",
              "      <td>1.000000</td>\n",
              "      <td>-0.398268</td>\n",
              "      <td>-0.054051</td>\n",
              "      <td>-0.171294</td>\n",
              "    </tr>\n",
              "    <tr>\n",
              "      <th>number_of_purchases</th>\n",
              "      <td>0.504438</td>\n",
              "      <td>0.327502</td>\n",
              "      <td>-0.398268</td>\n",
              "      <td>1.000000</td>\n",
              "      <td>-0.012466</td>\n",
              "      <td>0.355751</td>\n",
              "    </tr>\n",
              "    <tr>\n",
              "      <th>avg_order_cost</th>\n",
              "      <td>0.779401</td>\n",
              "      <td>-0.074321</td>\n",
              "      <td>-0.054051</td>\n",
              "      <td>-0.012466</td>\n",
              "      <td>1.000000</td>\n",
              "      <td>0.357384</td>\n",
              "    </tr>\n",
              "    <tr>\n",
              "      <th>2011 revenue</th>\n",
              "      <td>0.548234</td>\n",
              "      <td>0.061743</td>\n",
              "      <td>-0.171294</td>\n",
              "      <td>0.355751</td>\n",
              "      <td>0.357384</td>\n",
              "      <td>1.000000</td>\n",
              "    </tr>\n",
              "  </tbody>\n",
              "</table>\n",
              "</div>"
            ],
            "text/plain": [
              "                           2010 revenue  ...  2011 revenue\n",
              "2010 revenue                   1.000000  ...      0.548234\n",
              "days_since_first_purchase      0.109692  ...      0.061743\n",
              "days_since_last_purchase      -0.254964  ...     -0.171294\n",
              "number_of_purchases            0.504438  ...      0.355751\n",
              "avg_order_cost                 0.779401  ...      0.357384\n",
              "2011 revenue                   0.548234  ...      1.000000\n",
              "\n",
              "[6 rows x 6 columns]"
            ]
          },
          "metadata": {
            "tags": []
          },
          "execution_count": 34
        }
      ]
    },
    {
      "cell_type": "markdown",
      "metadata": {
        "id": "c8zDq5lgKZqf"
      },
      "source": [
        "Correlation Observations: \n",
        "\n",
        "\n",
        "*   2010 Revenue is positively and strongly correlated to average order cost.\n",
        "*  Days since last purchases is negatively correlated to the number of purchases - meaning the higher the number of days since a customer's last purchase, the lower the number of total purchases that will be made. \n",
        "* The number of purchases made strongly correlates to 2010 and 2011 revenue. \n",
        "\n"
      ]
    },
    {
      "cell_type": "code",
      "metadata": {
        "id": "maxsaewdtukE"
      },
      "source": [
        "#store predictors as x and outcome as y\n",
        "#dont include days since first purchase because weak correlation to 2011 revenue\n",
        "\n",
        "X = wrangled_df[['2010 revenue',\n",
        "       'days_since_last_purchase',\n",
        "       'number_of_purchases',\n",
        "       'avg_order_cost'\n",
        "       ]]\n",
        "y = wrangled_df['2011 revenue']"
      ],
      "execution_count": 36,
      "outputs": []
    },
    {
      "cell_type": "markdown",
      "metadata": {
        "id": "wKL5WJsmt6yP"
      },
      "source": [
        "Perform train test split"
      ]
    },
    {
      "cell_type": "code",
      "metadata": {
        "id": "SpGXx1nwuCiV"
      },
      "source": [
        "from sklearn.model_selection import train_test_split\n",
        "X_train, X_test, y_train, y_test = train_test_split(X, y, random_state = 100)"
      ],
      "execution_count": 37,
      "outputs": []
    },
    {
      "cell_type": "markdown",
      "metadata": {
        "id": "hUYSj8BbuHNC"
      },
      "source": [
        "Create a Linear Regression Model"
      ]
    },
    {
      "cell_type": "code",
      "metadata": {
        "colab": {
          "base_uri": "https://localhost:8080/"
        },
        "id": "RBKWArkuuItA",
        "outputId": "36c3e024-aaf6-4934-bd63-fa3c18c17ec5"
      },
      "source": [
        "from sklearn.linear_model import LinearRegression\n",
        "model = LinearRegression()\n",
        "model.fit(X_train,y_train)"
      ],
      "execution_count": 39,
      "outputs": [
        {
          "output_type": "execute_result",
          "data": {
            "text/plain": [
              "LinearRegression(copy_X=True, fit_intercept=True, n_jobs=None, normalize=False)"
            ]
          },
          "metadata": {
            "tags": []
          },
          "execution_count": 39
        }
      ]
    },
    {
      "cell_type": "code",
      "metadata": {
        "colab": {
          "base_uri": "https://localhost:8080/"
        },
        "id": "ZNmpPEv8uPaQ",
        "outputId": "1d5371b9-0d7a-48fe-f786-e84c5f931897"
      },
      "source": [
        "#examine model coefficients\n",
        "model.coef_"
      ],
      "execution_count": 40,
      "outputs": [
        {
          "output_type": "execute_result",
          "data": {
            "text/plain": [
              "array([  5.78799016,   7.47737544, 336.60769871,  -2.0558923 ])"
            ]
          },
          "metadata": {
            "tags": []
          },
          "execution_count": 40
        }
      ]
    },
    {
      "cell_type": "code",
      "metadata": {
        "colab": {
          "base_uri": "https://localhost:8080/"
        },
        "id": "2GUN_MKOuRGK",
        "outputId": "1a12ebd1-fcdb-4463-bec4-7d4c11499ff4"
      },
      "source": [
        "#check the intercept term of the model\n",
        "model.intercept_"
      ],
      "execution_count": 41,
      "outputs": [
        {
          "output_type": "execute_result",
          "data": {
            "text/plain": [
              "264.8693265705956"
            ]
          },
          "metadata": {
            "tags": []
          },
          "execution_count": 41
        }
      ]
    },
    {
      "cell_type": "markdown",
      "metadata": {
        "id": "6jPoHqCVuYb1"
      },
      "source": [
        "Make a DataFrame that holds data for one customer: \n",
        "\n",
        "1. 2010 revenue, 1,000 \n",
        "2. days since last purchase, 20\n",
        "3. number of purchases, 2\n",
        "4. average order cost, 500\n",
        "\n",
        "Have the model make a prediction on this one customer's data.\n",
        "\n"
      ]
    },
    {
      "cell_type": "code",
      "metadata": {
        "colab": {
          "base_uri": "https://localhost:8080/"
        },
        "id": "D9Ixd26IuSIn",
        "outputId": "789ef478-b57e-4a25-9a6c-9c2d4e490391"
      },
      "source": [
        "single_customer = pd.DataFrame({\n",
        "    '2010 revenue': [1000],\n",
        "    'days_since_last_purchase': [20],\n",
        "    'number_of_purchases': [2],\n",
        "    'avg_order_cost': [500]\n",
        "})\n",
        "\n",
        "model.predict(single_customer)\n"
      ],
      "execution_count": 43,
      "outputs": [
        {
          "output_type": "execute_result",
          "data": {
            "text/plain": [
              "array([5847.67624446])"
            ]
          },
          "metadata": {
            "tags": []
          },
          "execution_count": 43
        }
      ]
    },
    {
      "cell_type": "markdown",
      "metadata": {
        "id": "ef-3IKAaunG7"
      },
      "source": [
        "*Predicted 2011 revenue for a customer with this data: $5,847.68*"
      ]
    },
    {
      "cell_type": "markdown",
      "metadata": {
        "id": "c4ioETEmur8e"
      },
      "source": [
        "Plot the model's prediction on the test set against the true value"
      ]
    },
    {
      "cell_type": "code",
      "metadata": {
        "colab": {
          "base_uri": "https://localhost:8080/",
          "height": 283
        },
        "id": "O_cwv8QXuqC-",
        "outputId": "b9ad0aab-8f92-4343-ff8c-9d071a02bbd5"
      },
      "source": [
        "import matplotlib.pyplot as plt\n",
        "%matplotlib inline\n",
        "\n",
        "plt.scatter(model.predict(X_test),y_test)\n",
        "plt.xlim(0,10000)\n",
        "plt.ylim(0,10000)\n",
        "plt.plot([0, 10000], [0, 10000], 'k-', color = 'r')\n",
        "plt.xlabel('Model Predictions')\n",
        "plt.ylabel('True Value')\n",
        "plt.show()"
      ],
      "execution_count": 48,
      "outputs": [
        {
          "output_type": "display_data",
          "data": {
            "image/png": "[encoded data removed]",
            "text/plain": [
              "<Figure size 432x288 with 1 Axes>"
            ]
          },
          "metadata": {
            "tags": [],
            "needs_background": "light"
          }
        }
      ]
    },
    {
      "cell_type": "markdown",
      "metadata": {
        "id": "zeMlDaW5u5fG"
      },
      "source": [
        "*Scatterplot: The model predictions plotted against the true values\n",
        "Red line indicates where the points would be if the prediction was the same as the true value. The model is not completely accurate, but there does seem to be a relationship, with higher values having higher true values.*"
      ]
    },
    {
      "cell_type": "markdown",
      "metadata": {
        "id": "luEdlceDvDEF"
      },
      "source": [
        "Use correlation to further examine."
      ]
    },
    {
      "cell_type": "code",
      "metadata": {
        "colab": {
          "base_uri": "https://localhost:8080/"
        },
        "id": "yKd7UVDZvAhz",
        "outputId": "0ca2e754-599d-4b2c-81d4-262e3838c24c"
      },
      "source": [
        "from scipy.stats.stats import pearsonr\n",
        "pearsonr(model.predict(X_test), y_test)"
      ],
      "execution_count": 49,
      "outputs": [
        {
          "output_type": "execute_result",
          "data": {
            "text/plain": [
              "(0.6125740076680494, 1.9340020674637274e-20)"
            ]
          },
          "metadata": {
            "tags": []
          },
          "execution_count": 49
        }
      ]
    },
    {
      "cell_type": "markdown",
      "metadata": {
        "id": "6Iv8LgsqvG_8"
      },
      "source": [
        "*Correlation: 0.6 - strong relationship, p-value is very low indicating this relationship is unlikey to be due to chance.*"
      ]
    }
  ]
}